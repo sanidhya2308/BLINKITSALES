{
  "nbformat": 4,
  "nbformat_minor": 0,
  "metadata": {
    "colab": {
      "provenance": []
    },
    "kernelspec": {
      "name": "python3",
      "display_name": "Python 3"
    },
    "language_info": {
      "name": "python"
    }
  },
  "cells": [
    {
      "cell_type": "markdown",
      "source": [
        "**BLINKIT SALES ANALYSIS**"
      ],
      "metadata": {
        "id": "eMhlK3UiLFC9"
      }
    },
    {
      "cell_type": "markdown",
      "source": [
        "**BASIC DATA ANALYSIS TECHNIQUES***"
      ],
      "metadata": {
        "id": "EiGblwGfK-pU"
      }
    },
    {
      "cell_type": "code",
      "source": [
        "import pandas as pd\n",
        "import numpy as np\n",
        "import seaborn as sns\n",
        "import matplotlib.pyplot as plt\n",
        "import math\n",
        "import plotly.express as px\n",
        "from wordcloud import wordcloud\n",
        "from datetime import datetime\n",
        "import warnings\n",
        "warnings.filterwarnings('ignore')\n",
        "df=pd.read_csv('/content/drive/MyDrive/blinkit_data.csv')\n",
        "df"
      ],
      "metadata": {
        "colab": {
          "base_uri": "https://localhost:8080/",
          "height": 632
        },
        "id": "vrAYonaFJQZ5",
        "outputId": "55f22fbc-c990-4428-fda2-7f5af2f1f3b5"
      },
      "execution_count": 1,
      "outputs": [
        {
          "output_type": "execute_result",
          "data": {
            "text/plain": [
              "     Item Fat Content Item Identifier              Item Type  \\\n",
              "0             Regular           FDX32  Fruits and Vegetables   \n",
              "1             Low Fat           NCB42     Health and Hygiene   \n",
              "2             Regular           FDR28           Frozen Foods   \n",
              "3             Regular           FDL50                 Canned   \n",
              "4             Low Fat           DRI25            Soft Drinks   \n",
              "...               ...             ...                    ...   \n",
              "8518          low fat           NCT53     Health and Hygiene   \n",
              "8519          low fat           FDN09            Snack Foods   \n",
              "8520          low fat           DRE13            Soft Drinks   \n",
              "8521              reg           FDT50                  Dairy   \n",
              "8522              reg           FDM58            Snack Foods   \n",
              "\n",
              "      Outlet Establishment Year Outlet Identifier Outlet Location Type  \\\n",
              "0                          2012            OUT049               Tier 1   \n",
              "1                          2022            OUT018               Tier 3   \n",
              "2                          2010            OUT046               Tier 1   \n",
              "3                          2000            OUT013               Tier 3   \n",
              "4                          2015            OUT045               Tier 2   \n",
              "...                         ...               ...                  ...   \n",
              "8518                       1998            OUT027               Tier 3   \n",
              "8519                       1998            OUT027               Tier 3   \n",
              "8520                       1998            OUT027               Tier 3   \n",
              "8521                       1998            OUT027               Tier 3   \n",
              "8522                       1998            OUT027               Tier 3   \n",
              "\n",
              "     Outlet Size        Outlet Type  Item Visibility  Item Weight     Sales  \\\n",
              "0         Medium  Supermarket Type1         0.100014        15.10  145.4786   \n",
              "1         Medium  Supermarket Type2         0.008596        11.80  115.3492   \n",
              "2          Small  Supermarket Type1         0.025896        13.85  165.0210   \n",
              "3           High  Supermarket Type1         0.042278        12.15  126.5046   \n",
              "4          Small  Supermarket Type1         0.033970        19.60   55.1614   \n",
              "...          ...                ...              ...          ...       ...   \n",
              "8518      Medium  Supermarket Type3         0.000000          NaN  164.5526   \n",
              "8519      Medium  Supermarket Type3         0.034706          NaN  241.6828   \n",
              "8520      Medium  Supermarket Type3         0.027571          NaN   86.6198   \n",
              "8521      Medium  Supermarket Type3         0.107715          NaN   97.8752   \n",
              "8522      Medium  Supermarket Type3         0.000000          NaN  112.2544   \n",
              "\n",
              "      Rating  \n",
              "0        5.0  \n",
              "1        5.0  \n",
              "2        5.0  \n",
              "3        5.0  \n",
              "4        5.0  \n",
              "...      ...  \n",
              "8518     4.0  \n",
              "8519     4.0  \n",
              "8520     4.0  \n",
              "8521     4.0  \n",
              "8522     4.0  \n",
              "\n",
              "[8523 rows x 12 columns]"
            ],
            "text/html": [
              "\n",
              "  <div id=\"df-bb0e989d-d900-4e44-a86d-1e4e34ba89e9\" class=\"colab-df-container\">\n",
              "    <div>\n",
              "<style scoped>\n",
              "    .dataframe tbody tr th:only-of-type {\n",
              "        vertical-align: middle;\n",
              "    }\n",
              "\n",
              "    .dataframe tbody tr th {\n",
              "        vertical-align: top;\n",
              "    }\n",
              "\n",
              "    .dataframe thead th {\n",
              "        text-align: right;\n",
              "    }\n",
              "</style>\n",
              "<table border=\"1\" class=\"dataframe\">\n",
              "  <thead>\n",
              "    <tr style=\"text-align: right;\">\n",
              "      <th></th>\n",
              "      <th>Item Fat Content</th>\n",
              "      <th>Item Identifier</th>\n",
              "      <th>Item Type</th>\n",
              "      <th>Outlet Establishment Year</th>\n",
              "      <th>Outlet Identifier</th>\n",
              "      <th>Outlet Location Type</th>\n",
              "      <th>Outlet Size</th>\n",
              "      <th>Outlet Type</th>\n",
              "      <th>Item Visibility</th>\n",
              "      <th>Item Weight</th>\n",
              "      <th>Sales</th>\n",
              "      <th>Rating</th>\n",
              "    </tr>\n",
              "  </thead>\n",
              "  <tbody>\n",
              "    <tr>\n",
              "      <th>0</th>\n",
              "      <td>Regular</td>\n",
              "      <td>FDX32</td>\n",
              "      <td>Fruits and Vegetables</td>\n",
              "      <td>2012</td>\n",
              "      <td>OUT049</td>\n",
              "      <td>Tier 1</td>\n",
              "      <td>Medium</td>\n",
              "      <td>Supermarket Type1</td>\n",
              "      <td>0.100014</td>\n",
              "      <td>15.10</td>\n",
              "      <td>145.4786</td>\n",
              "      <td>5.0</td>\n",
              "    </tr>\n",
              "    <tr>\n",
              "      <th>1</th>\n",
              "      <td>Low Fat</td>\n",
              "      <td>NCB42</td>\n",
              "      <td>Health and Hygiene</td>\n",
              "      <td>2022</td>\n",
              "      <td>OUT018</td>\n",
              "      <td>Tier 3</td>\n",
              "      <td>Medium</td>\n",
              "      <td>Supermarket Type2</td>\n",
              "      <td>0.008596</td>\n",
              "      <td>11.80</td>\n",
              "      <td>115.3492</td>\n",
              "      <td>5.0</td>\n",
              "    </tr>\n",
              "    <tr>\n",
              "      <th>2</th>\n",
              "      <td>Regular</td>\n",
              "      <td>FDR28</td>\n",
              "      <td>Frozen Foods</td>\n",
              "      <td>2010</td>\n",
              "      <td>OUT046</td>\n",
              "      <td>Tier 1</td>\n",
              "      <td>Small</td>\n",
              "      <td>Supermarket Type1</td>\n",
              "      <td>0.025896</td>\n",
              "      <td>13.85</td>\n",
              "      <td>165.0210</td>\n",
              "      <td>5.0</td>\n",
              "    </tr>\n",
              "    <tr>\n",
              "      <th>3</th>\n",
              "      <td>Regular</td>\n",
              "      <td>FDL50</td>\n",
              "      <td>Canned</td>\n",
              "      <td>2000</td>\n",
              "      <td>OUT013</td>\n",
              "      <td>Tier 3</td>\n",
              "      <td>High</td>\n",
              "      <td>Supermarket Type1</td>\n",
              "      <td>0.042278</td>\n",
              "      <td>12.15</td>\n",
              "      <td>126.5046</td>\n",
              "      <td>5.0</td>\n",
              "    </tr>\n",
              "    <tr>\n",
              "      <th>4</th>\n",
              "      <td>Low Fat</td>\n",
              "      <td>DRI25</td>\n",
              "      <td>Soft Drinks</td>\n",
              "      <td>2015</td>\n",
              "      <td>OUT045</td>\n",
              "      <td>Tier 2</td>\n",
              "      <td>Small</td>\n",
              "      <td>Supermarket Type1</td>\n",
              "      <td>0.033970</td>\n",
              "      <td>19.60</td>\n",
              "      <td>55.1614</td>\n",
              "      <td>5.0</td>\n",
              "    </tr>\n",
              "    <tr>\n",
              "      <th>...</th>\n",
              "      <td>...</td>\n",
              "      <td>...</td>\n",
              "      <td>...</td>\n",
              "      <td>...</td>\n",
              "      <td>...</td>\n",
              "      <td>...</td>\n",
              "      <td>...</td>\n",
              "      <td>...</td>\n",
              "      <td>...</td>\n",
              "      <td>...</td>\n",
              "      <td>...</td>\n",
              "      <td>...</td>\n",
              "    </tr>\n",
              "    <tr>\n",
              "      <th>8518</th>\n",
              "      <td>low fat</td>\n",
              "      <td>NCT53</td>\n",
              "      <td>Health and Hygiene</td>\n",
              "      <td>1998</td>\n",
              "      <td>OUT027</td>\n",
              "      <td>Tier 3</td>\n",
              "      <td>Medium</td>\n",
              "      <td>Supermarket Type3</td>\n",
              "      <td>0.000000</td>\n",
              "      <td>NaN</td>\n",
              "      <td>164.5526</td>\n",
              "      <td>4.0</td>\n",
              "    </tr>\n",
              "    <tr>\n",
              "      <th>8519</th>\n",
              "      <td>low fat</td>\n",
              "      <td>FDN09</td>\n",
              "      <td>Snack Foods</td>\n",
              "      <td>1998</td>\n",
              "      <td>OUT027</td>\n",
              "      <td>Tier 3</td>\n",
              "      <td>Medium</td>\n",
              "      <td>Supermarket Type3</td>\n",
              "      <td>0.034706</td>\n",
              "      <td>NaN</td>\n",
              "      <td>241.6828</td>\n",
              "      <td>4.0</td>\n",
              "    </tr>\n",
              "    <tr>\n",
              "      <th>8520</th>\n",
              "      <td>low fat</td>\n",
              "      <td>DRE13</td>\n",
              "      <td>Soft Drinks</td>\n",
              "      <td>1998</td>\n",
              "      <td>OUT027</td>\n",
              "      <td>Tier 3</td>\n",
              "      <td>Medium</td>\n",
              "      <td>Supermarket Type3</td>\n",
              "      <td>0.027571</td>\n",
              "      <td>NaN</td>\n",
              "      <td>86.6198</td>\n",
              "      <td>4.0</td>\n",
              "    </tr>\n",
              "    <tr>\n",
              "      <th>8521</th>\n",
              "      <td>reg</td>\n",
              "      <td>FDT50</td>\n",
              "      <td>Dairy</td>\n",
              "      <td>1998</td>\n",
              "      <td>OUT027</td>\n",
              "      <td>Tier 3</td>\n",
              "      <td>Medium</td>\n",
              "      <td>Supermarket Type3</td>\n",
              "      <td>0.107715</td>\n",
              "      <td>NaN</td>\n",
              "      <td>97.8752</td>\n",
              "      <td>4.0</td>\n",
              "    </tr>\n",
              "    <tr>\n",
              "      <th>8522</th>\n",
              "      <td>reg</td>\n",
              "      <td>FDM58</td>\n",
              "      <td>Snack Foods</td>\n",
              "      <td>1998</td>\n",
              "      <td>OUT027</td>\n",
              "      <td>Tier 3</td>\n",
              "      <td>Medium</td>\n",
              "      <td>Supermarket Type3</td>\n",
              "      <td>0.000000</td>\n",
              "      <td>NaN</td>\n",
              "      <td>112.2544</td>\n",
              "      <td>4.0</td>\n",
              "    </tr>\n",
              "  </tbody>\n",
              "</table>\n",
              "<p>8523 rows × 12 columns</p>\n",
              "</div>\n",
              "    <div class=\"colab-df-buttons\">\n",
              "\n",
              "  <div class=\"colab-df-container\">\n",
              "    <button class=\"colab-df-convert\" onclick=\"convertToInteractive('df-bb0e989d-d900-4e44-a86d-1e4e34ba89e9')\"\n",
              "            title=\"Convert this dataframe to an interactive table.\"\n",
              "            style=\"display:none;\">\n",
              "\n",
              "  <svg xmlns=\"http://www.w3.org/2000/svg\" height=\"24px\" viewBox=\"0 -960 960 960\">\n",
              "    <path d=\"M120-120v-720h720v720H120Zm60-500h600v-160H180v160Zm220 220h160v-160H400v160Zm0 220h160v-160H400v160ZM180-400h160v-160H180v160Zm440 0h160v-160H620v160ZM180-180h160v-160H180v160Zm440 0h160v-160H620v160Z\"/>\n",
              "  </svg>\n",
              "    </button>\n",
              "\n",
              "  <style>\n",
              "    .colab-df-container {\n",
              "      display:flex;\n",
              "      gap: 12px;\n",
              "    }\n",
              "\n",
              "    .colab-df-convert {\n",
              "      background-color: #E8F0FE;\n",
              "      border: none;\n",
              "      border-radius: 50%;\n",
              "      cursor: pointer;\n",
              "      display: none;\n",
              "      fill: #1967D2;\n",
              "      height: 32px;\n",
              "      padding: 0 0 0 0;\n",
              "      width: 32px;\n",
              "    }\n",
              "\n",
              "    .colab-df-convert:hover {\n",
              "      background-color: #E2EBFA;\n",
              "      box-shadow: 0px 1px 2px rgba(60, 64, 67, 0.3), 0px 1px 3px 1px rgba(60, 64, 67, 0.15);\n",
              "      fill: #174EA6;\n",
              "    }\n",
              "\n",
              "    .colab-df-buttons div {\n",
              "      margin-bottom: 4px;\n",
              "    }\n",
              "\n",
              "    [theme=dark] .colab-df-convert {\n",
              "      background-color: #3B4455;\n",
              "      fill: #D2E3FC;\n",
              "    }\n",
              "\n",
              "    [theme=dark] .colab-df-convert:hover {\n",
              "      background-color: #434B5C;\n",
              "      box-shadow: 0px 1px 3px 1px rgba(0, 0, 0, 0.15);\n",
              "      filter: drop-shadow(0px 1px 2px rgba(0, 0, 0, 0.3));\n",
              "      fill: #FFFFFF;\n",
              "    }\n",
              "  </style>\n",
              "\n",
              "    <script>\n",
              "      const buttonEl =\n",
              "        document.querySelector('#df-bb0e989d-d900-4e44-a86d-1e4e34ba89e9 button.colab-df-convert');\n",
              "      buttonEl.style.display =\n",
              "        google.colab.kernel.accessAllowed ? 'block' : 'none';\n",
              "\n",
              "      async function convertToInteractive(key) {\n",
              "        const element = document.querySelector('#df-bb0e989d-d900-4e44-a86d-1e4e34ba89e9');\n",
              "        const dataTable =\n",
              "          await google.colab.kernel.invokeFunction('convertToInteractive',\n",
              "                                                    [key], {});\n",
              "        if (!dataTable) return;\n",
              "\n",
              "        const docLinkHtml = 'Like what you see? Visit the ' +\n",
              "          '<a target=\"_blank\" href=https://colab.research.google.com/notebooks/data_table.ipynb>data table notebook</a>'\n",
              "          + ' to learn more about interactive tables.';\n",
              "        element.innerHTML = '';\n",
              "        dataTable['output_type'] = 'display_data';\n",
              "        await google.colab.output.renderOutput(dataTable, element);\n",
              "        const docLink = document.createElement('div');\n",
              "        docLink.innerHTML = docLinkHtml;\n",
              "        element.appendChild(docLink);\n",
              "      }\n",
              "    </script>\n",
              "  </div>\n",
              "\n",
              "\n",
              "    <div id=\"df-868e94d8-cce0-439b-b9db-cb6e5a367883\">\n",
              "      <button class=\"colab-df-quickchart\" onclick=\"quickchart('df-868e94d8-cce0-439b-b9db-cb6e5a367883')\"\n",
              "                title=\"Suggest charts\"\n",
              "                style=\"display:none;\">\n",
              "\n",
              "<svg xmlns=\"http://www.w3.org/2000/svg\" height=\"24px\"viewBox=\"0 0 24 24\"\n",
              "     width=\"24px\">\n",
              "    <g>\n",
              "        <path d=\"M19 3H5c-1.1 0-2 .9-2 2v14c0 1.1.9 2 2 2h14c1.1 0 2-.9 2-2V5c0-1.1-.9-2-2-2zM9 17H7v-7h2v7zm4 0h-2V7h2v10zm4 0h-2v-4h2v4z\"/>\n",
              "    </g>\n",
              "</svg>\n",
              "      </button>\n",
              "\n",
              "<style>\n",
              "  .colab-df-quickchart {\n",
              "      --bg-color: #E8F0FE;\n",
              "      --fill-color: #1967D2;\n",
              "      --hover-bg-color: #E2EBFA;\n",
              "      --hover-fill-color: #174EA6;\n",
              "      --disabled-fill-color: #AAA;\n",
              "      --disabled-bg-color: #DDD;\n",
              "  }\n",
              "\n",
              "  [theme=dark] .colab-df-quickchart {\n",
              "      --bg-color: #3B4455;\n",
              "      --fill-color: #D2E3FC;\n",
              "      --hover-bg-color: #434B5C;\n",
              "      --hover-fill-color: #FFFFFF;\n",
              "      --disabled-bg-color: #3B4455;\n",
              "      --disabled-fill-color: #666;\n",
              "  }\n",
              "\n",
              "  .colab-df-quickchart {\n",
              "    background-color: var(--bg-color);\n",
              "    border: none;\n",
              "    border-radius: 50%;\n",
              "    cursor: pointer;\n",
              "    display: none;\n",
              "    fill: var(--fill-color);\n",
              "    height: 32px;\n",
              "    padding: 0;\n",
              "    width: 32px;\n",
              "  }\n",
              "\n",
              "  .colab-df-quickchart:hover {\n",
              "    background-color: var(--hover-bg-color);\n",
              "    box-shadow: 0 1px 2px rgba(60, 64, 67, 0.3), 0 1px 3px 1px rgba(60, 64, 67, 0.15);\n",
              "    fill: var(--button-hover-fill-color);\n",
              "  }\n",
              "\n",
              "  .colab-df-quickchart-complete:disabled,\n",
              "  .colab-df-quickchart-complete:disabled:hover {\n",
              "    background-color: var(--disabled-bg-color);\n",
              "    fill: var(--disabled-fill-color);\n",
              "    box-shadow: none;\n",
              "  }\n",
              "\n",
              "  .colab-df-spinner {\n",
              "    border: 2px solid var(--fill-color);\n",
              "    border-color: transparent;\n",
              "    border-bottom-color: var(--fill-color);\n",
              "    animation:\n",
              "      spin 1s steps(1) infinite;\n",
              "  }\n",
              "\n",
              "  @keyframes spin {\n",
              "    0% {\n",
              "      border-color: transparent;\n",
              "      border-bottom-color: var(--fill-color);\n",
              "      border-left-color: var(--fill-color);\n",
              "    }\n",
              "    20% {\n",
              "      border-color: transparent;\n",
              "      border-left-color: var(--fill-color);\n",
              "      border-top-color: var(--fill-color);\n",
              "    }\n",
              "    30% {\n",
              "      border-color: transparent;\n",
              "      border-left-color: var(--fill-color);\n",
              "      border-top-color: var(--fill-color);\n",
              "      border-right-color: var(--fill-color);\n",
              "    }\n",
              "    40% {\n",
              "      border-color: transparent;\n",
              "      border-right-color: var(--fill-color);\n",
              "      border-top-color: var(--fill-color);\n",
              "    }\n",
              "    60% {\n",
              "      border-color: transparent;\n",
              "      border-right-color: var(--fill-color);\n",
              "    }\n",
              "    80% {\n",
              "      border-color: transparent;\n",
              "      border-right-color: var(--fill-color);\n",
              "      border-bottom-color: var(--fill-color);\n",
              "    }\n",
              "    90% {\n",
              "      border-color: transparent;\n",
              "      border-bottom-color: var(--fill-color);\n",
              "    }\n",
              "  }\n",
              "</style>\n",
              "\n",
              "      <script>\n",
              "        async function quickchart(key) {\n",
              "          const quickchartButtonEl =\n",
              "            document.querySelector('#' + key + ' button');\n",
              "          quickchartButtonEl.disabled = true;  // To prevent multiple clicks.\n",
              "          quickchartButtonEl.classList.add('colab-df-spinner');\n",
              "          try {\n",
              "            const charts = await google.colab.kernel.invokeFunction(\n",
              "                'suggestCharts', [key], {});\n",
              "          } catch (error) {\n",
              "            console.error('Error during call to suggestCharts:', error);\n",
              "          }\n",
              "          quickchartButtonEl.classList.remove('colab-df-spinner');\n",
              "          quickchartButtonEl.classList.add('colab-df-quickchart-complete');\n",
              "        }\n",
              "        (() => {\n",
              "          let quickchartButtonEl =\n",
              "            document.querySelector('#df-868e94d8-cce0-439b-b9db-cb6e5a367883 button');\n",
              "          quickchartButtonEl.style.display =\n",
              "            google.colab.kernel.accessAllowed ? 'block' : 'none';\n",
              "        })();\n",
              "      </script>\n",
              "    </div>\n",
              "\n",
              "  <div id=\"id_b66654f2-7adf-4ef2-899d-1875b180255d\">\n",
              "    <style>\n",
              "      .colab-df-generate {\n",
              "        background-color: #E8F0FE;\n",
              "        border: none;\n",
              "        border-radius: 50%;\n",
              "        cursor: pointer;\n",
              "        display: none;\n",
              "        fill: #1967D2;\n",
              "        height: 32px;\n",
              "        padding: 0 0 0 0;\n",
              "        width: 32px;\n",
              "      }\n",
              "\n",
              "      .colab-df-generate:hover {\n",
              "        background-color: #E2EBFA;\n",
              "        box-shadow: 0px 1px 2px rgba(60, 64, 67, 0.3), 0px 1px 3px 1px rgba(60, 64, 67, 0.15);\n",
              "        fill: #174EA6;\n",
              "      }\n",
              "\n",
              "      [theme=dark] .colab-df-generate {\n",
              "        background-color: #3B4455;\n",
              "        fill: #D2E3FC;\n",
              "      }\n",
              "\n",
              "      [theme=dark] .colab-df-generate:hover {\n",
              "        background-color: #434B5C;\n",
              "        box-shadow: 0px 1px 3px 1px rgba(0, 0, 0, 0.15);\n",
              "        filter: drop-shadow(0px 1px 2px rgba(0, 0, 0, 0.3));\n",
              "        fill: #FFFFFF;\n",
              "      }\n",
              "    </style>\n",
              "    <button class=\"colab-df-generate\" onclick=\"generateWithVariable('df')\"\n",
              "            title=\"Generate code using this dataframe.\"\n",
              "            style=\"display:none;\">\n",
              "\n",
              "  <svg xmlns=\"http://www.w3.org/2000/svg\" height=\"24px\"viewBox=\"0 0 24 24\"\n",
              "       width=\"24px\">\n",
              "    <path d=\"M7,19H8.4L18.45,9,17,7.55,7,17.6ZM5,21V16.75L18.45,3.32a2,2,0,0,1,2.83,0l1.4,1.43a1.91,1.91,0,0,1,.58,1.4,1.91,1.91,0,0,1-.58,1.4L9.25,21ZM18.45,9,17,7.55Zm-12,3A5.31,5.31,0,0,0,4.9,8.1,5.31,5.31,0,0,0,1,6.5,5.31,5.31,0,0,0,4.9,4.9,5.31,5.31,0,0,0,6.5,1,5.31,5.31,0,0,0,8.1,4.9,5.31,5.31,0,0,0,12,6.5,5.46,5.46,0,0,0,6.5,12Z\"/>\n",
              "  </svg>\n",
              "    </button>\n",
              "    <script>\n",
              "      (() => {\n",
              "      const buttonEl =\n",
              "        document.querySelector('#id_b66654f2-7adf-4ef2-899d-1875b180255d button.colab-df-generate');\n",
              "      buttonEl.style.display =\n",
              "        google.colab.kernel.accessAllowed ? 'block' : 'none';\n",
              "\n",
              "      buttonEl.onclick = () => {\n",
              "        google.colab.notebook.generateWithVariable('df');\n",
              "      }\n",
              "      })();\n",
              "    </script>\n",
              "  </div>\n",
              "\n",
              "    </div>\n",
              "  </div>\n"
            ],
            "application/vnd.google.colaboratory.intrinsic+json": {
              "type": "dataframe",
              "variable_name": "df",
              "summary": "{\n  \"name\": \"df\",\n  \"rows\": 8523,\n  \"fields\": [\n    {\n      \"column\": \"Item Fat Content\",\n      \"properties\": {\n        \"dtype\": \"category\",\n        \"num_unique_values\": 5,\n        \"samples\": [\n          \"Low Fat\",\n          \"reg\",\n          \"low fat\"\n        ],\n        \"semantic_type\": \"\",\n        \"description\": \"\"\n      }\n    },\n    {\n      \"column\": \"Item Identifier\",\n      \"properties\": {\n        \"dtype\": \"category\",\n        \"num_unique_values\": 1559,\n        \"samples\": [\n          \"FDG58\",\n          \"FDF59\",\n          \"FDJ21\"\n        ],\n        \"semantic_type\": \"\",\n        \"description\": \"\"\n      }\n    },\n    {\n      \"column\": \"Item Type\",\n      \"properties\": {\n        \"dtype\": \"category\",\n        \"num_unique_values\": 16,\n        \"samples\": [\n          \"Fruits and Vegetables\",\n          \"Health and Hygiene\",\n          \"Household\"\n        ],\n        \"semantic_type\": \"\",\n        \"description\": \"\"\n      }\n    },\n    {\n      \"column\": \"Outlet Establishment Year\",\n      \"properties\": {\n        \"dtype\": \"number\",\n        \"std\": 8,\n        \"min\": 1998,\n        \"max\": 2022,\n        \"num_unique_values\": 9,\n        \"samples\": [\n          1998,\n          2022,\n          2020\n        ],\n        \"semantic_type\": \"\",\n        \"description\": \"\"\n      }\n    },\n    {\n      \"column\": \"Outlet Identifier\",\n      \"properties\": {\n        \"dtype\": \"category\",\n        \"num_unique_values\": 10,\n        \"samples\": [\n          \"OUT035\",\n          \"OUT018\",\n          \"OUT017\"\n        ],\n        \"semantic_type\": \"\",\n        \"description\": \"\"\n      }\n    },\n    {\n      \"column\": \"Outlet Location Type\",\n      \"properties\": {\n        \"dtype\": \"category\",\n        \"num_unique_values\": 3,\n        \"samples\": [\n          \"Tier 1\",\n          \"Tier 3\",\n          \"Tier 2\"\n        ],\n        \"semantic_type\": \"\",\n        \"description\": \"\"\n      }\n    },\n    {\n      \"column\": \"Outlet Size\",\n      \"properties\": {\n        \"dtype\": \"category\",\n        \"num_unique_values\": 3,\n        \"samples\": [\n          \"Medium\",\n          \"Small\",\n          \"High\"\n        ],\n        \"semantic_type\": \"\",\n        \"description\": \"\"\n      }\n    },\n    {\n      \"column\": \"Outlet Type\",\n      \"properties\": {\n        \"dtype\": \"category\",\n        \"num_unique_values\": 4,\n        \"samples\": [\n          \"Supermarket Type2\",\n          \"Supermarket Type3\",\n          \"Supermarket Type1\"\n        ],\n        \"semantic_type\": \"\",\n        \"description\": \"\"\n      }\n    },\n    {\n      \"column\": \"Item Visibility\",\n      \"properties\": {\n        \"dtype\": \"number\",\n        \"std\": 0.05159782232113535,\n        \"min\": 0.0,\n        \"max\": 0.328390948,\n        \"num_unique_values\": 7880,\n        \"samples\": [\n          0.014222617,\n          0.018310142,\n          0.112227747\n        ],\n        \"semantic_type\": \"\",\n        \"description\": \"\"\n      }\n    },\n    {\n      \"column\": \"Item Weight\",\n      \"properties\": {\n        \"dtype\": \"number\",\n        \"std\": 4.643456499186394,\n        \"min\": 4.555,\n        \"max\": 21.35,\n        \"num_unique_values\": 415,\n        \"samples\": [\n          15.5,\n          7.96,\n          8.275\n        ],\n        \"semantic_type\": \"\",\n        \"description\": \"\"\n      }\n    },\n    {\n      \"column\": \"Sales\",\n      \"properties\": {\n        \"dtype\": \"number\",\n        \"std\": 62.275066512190485,\n        \"min\": 31.29,\n        \"max\": 266.8884,\n        \"num_unique_values\": 5938,\n        \"samples\": [\n          179.566,\n          228.801,\n          112.6886\n        ],\n        \"semantic_type\": \"\",\n        \"description\": \"\"\n      }\n    },\n    {\n      \"column\": \"Rating\",\n      \"properties\": {\n        \"dtype\": \"number\",\n        \"std\": 0.6056512797408804,\n        \"min\": 1.0,\n        \"max\": 5.0,\n        \"num_unique_values\": 39,\n        \"samples\": [\n          1.7,\n          1.3,\n          4.6\n        ],\n        \"semantic_type\": \"\",\n        \"description\": \"\"\n      }\n    }\n  ]\n}"
            }
          },
          "metadata": {},
          "execution_count": 1
        }
      ]
    },
    {
      "cell_type": "code",
      "source": [
        "df.columns"
      ],
      "metadata": {
        "id": "J4XfLaDUJQXm",
        "colab": {
          "base_uri": "https://localhost:8080/"
        },
        "outputId": "0fe17558-2008-456e-a5cf-40a16fe12720"
      },
      "execution_count": 2,
      "outputs": [
        {
          "output_type": "execute_result",
          "data": {
            "text/plain": [
              "Index(['Item Fat Content', 'Item Identifier', 'Item Type',\n",
              "       'Outlet Establishment Year', 'Outlet Identifier',\n",
              "       'Outlet Location Type', 'Outlet Size', 'Outlet Type', 'Item Visibility',\n",
              "       'Item Weight', 'Sales', 'Rating'],\n",
              "      dtype='object')"
            ]
          },
          "metadata": {},
          "execution_count": 2
        }
      ]
    },
    {
      "cell_type": "code",
      "source": [
        "df.shape"
      ],
      "metadata": {
        "colab": {
          "base_uri": "https://localhost:8080/"
        },
        "id": "NPp0PYnnMBmy",
        "outputId": "4582fe44-a319-4db1-c788-57b3dd958549"
      },
      "execution_count": 3,
      "outputs": [
        {
          "output_type": "execute_result",
          "data": {
            "text/plain": [
              "(8523, 12)"
            ]
          },
          "metadata": {},
          "execution_count": 3
        }
      ]
    },
    {
      "cell_type": "code",
      "source": [
        "df.size"
      ],
      "metadata": {
        "colab": {
          "base_uri": "https://localhost:8080/"
        },
        "id": "wazbnXrLMBjr",
        "outputId": "a888c1eb-b013-42e3-e897-58e78b0a7ccb"
      },
      "execution_count": 4,
      "outputs": [
        {
          "output_type": "execute_result",
          "data": {
            "text/plain": [
              "102276"
            ]
          },
          "metadata": {},
          "execution_count": 4
        }
      ]
    },
    {
      "cell_type": "code",
      "source": [
        "df.ndim"
      ],
      "metadata": {
        "colab": {
          "base_uri": "https://localhost:8080/"
        },
        "id": "wPipiJs6MFMb",
        "outputId": "de87aadd-b516-41d5-bf92-67bf0ee4c3da"
      },
      "execution_count": 6,
      "outputs": [
        {
          "output_type": "execute_result",
          "data": {
            "text/plain": [
              "2"
            ]
          },
          "metadata": {},
          "execution_count": 6
        }
      ]
    },
    {
      "cell_type": "code",
      "source": [
        "df.dtypes"
      ],
      "metadata": {
        "colab": {
          "base_uri": "https://localhost:8080/",
          "height": 460
        },
        "id": "xZMWDp33MHNe",
        "outputId": "55fd1746-0442-4d48-dc36-0da694ad1975"
      },
      "execution_count": 5,
      "outputs": [
        {
          "output_type": "execute_result",
          "data": {
            "text/plain": [
              "Item Fat Content              object\n",
              "Item Identifier               object\n",
              "Item Type                     object\n",
              "Outlet Establishment Year      int64\n",
              "Outlet Identifier             object\n",
              "Outlet Location Type          object\n",
              "Outlet Size                   object\n",
              "Outlet Type                   object\n",
              "Item Visibility              float64\n",
              "Item Weight                  float64\n",
              "Sales                        float64\n",
              "Rating                       float64\n",
              "dtype: object"
            ],
            "text/html": [
              "<div>\n",
              "<style scoped>\n",
              "    .dataframe tbody tr th:only-of-type {\n",
              "        vertical-align: middle;\n",
              "    }\n",
              "\n",
              "    .dataframe tbody tr th {\n",
              "        vertical-align: top;\n",
              "    }\n",
              "\n",
              "    .dataframe thead th {\n",
              "        text-align: right;\n",
              "    }\n",
              "</style>\n",
              "<table border=\"1\" class=\"dataframe\">\n",
              "  <thead>\n",
              "    <tr style=\"text-align: right;\">\n",
              "      <th></th>\n",
              "      <th>0</th>\n",
              "    </tr>\n",
              "  </thead>\n",
              "  <tbody>\n",
              "    <tr>\n",
              "      <th>Item Fat Content</th>\n",
              "      <td>object</td>\n",
              "    </tr>\n",
              "    <tr>\n",
              "      <th>Item Identifier</th>\n",
              "      <td>object</td>\n",
              "    </tr>\n",
              "    <tr>\n",
              "      <th>Item Type</th>\n",
              "      <td>object</td>\n",
              "    </tr>\n",
              "    <tr>\n",
              "      <th>Outlet Establishment Year</th>\n",
              "      <td>int64</td>\n",
              "    </tr>\n",
              "    <tr>\n",
              "      <th>Outlet Identifier</th>\n",
              "      <td>object</td>\n",
              "    </tr>\n",
              "    <tr>\n",
              "      <th>Outlet Location Type</th>\n",
              "      <td>object</td>\n",
              "    </tr>\n",
              "    <tr>\n",
              "      <th>Outlet Size</th>\n",
              "      <td>object</td>\n",
              "    </tr>\n",
              "    <tr>\n",
              "      <th>Outlet Type</th>\n",
              "      <td>object</td>\n",
              "    </tr>\n",
              "    <tr>\n",
              "      <th>Item Visibility</th>\n",
              "      <td>float64</td>\n",
              "    </tr>\n",
              "    <tr>\n",
              "      <th>Item Weight</th>\n",
              "      <td>float64</td>\n",
              "    </tr>\n",
              "    <tr>\n",
              "      <th>Sales</th>\n",
              "      <td>float64</td>\n",
              "    </tr>\n",
              "    <tr>\n",
              "      <th>Rating</th>\n",
              "      <td>float64</td>\n",
              "    </tr>\n",
              "  </tbody>\n",
              "</table>\n",
              "</div><br><label><b>dtype:</b> object</label>"
            ]
          },
          "metadata": {},
          "execution_count": 5
        }
      ]
    },
    {
      "cell_type": "code",
      "source": [
        "df.value_counts()"
      ],
      "metadata": {
        "colab": {
          "base_uri": "https://localhost:8080/",
          "height": 698
        },
        "id": "4tczzb9OMMmL",
        "outputId": "47ee458c-abce-4c56-8427-c4ca061e323c"
      },
      "execution_count": 7,
      "outputs": [
        {
          "output_type": "execute_result",
          "data": {
            "text/plain": [
              "Item Fat Content  Item Identifier  Item Type     Outlet Establishment Year  Outlet Identifier  Outlet Location Type  Outlet Size  Outlet Type        Item Visibility  Item Weight  Sales     Rating\n",
              "reg               FDZ59            Baking Goods  2011                       OUT010             Tier 3                Small        Grocery Store      0.174111         6.630        166.8500  4.4       1\n",
              "LF                DRA12            Soft Drinks   2017                       OUT035             Tier 2                Small        Supermarket Type1  0.000000         11.600       141.9154  4.0       1\n",
              "                  DRD12            Soft Drinks   2022                       OUT018             Tier 3                Medium       Supermarket Type2  0.077508         6.960        92.3146   4.0       1\n",
              "                  DRD25            Soft Drinks   2022                       OUT018             Tier 3                Medium       Supermarket Type2  0.079294         6.135        111.2860  4.3       1\n",
              "reg               FDW09            Snack Foods   2000                       OUT013             Tier 3                High         Supermarket Type1  0.025899         13.650       81.1302   4.4       1\n",
              "                                                                                                                                                                                                      ..\n",
              "LF                DRE48            Soft Drinks   2017                       OUT035             Tier 2                Small        Supermarket Type1  0.017322         8.430        196.8768  4.0       1\n",
              "                  DRE37            Soft Drinks   2022                       OUT018             Tier 3                Medium       Supermarket Type2  0.094603         13.500       187.0872  4.0       1\n",
              "                  DRE25            Soft Drinks   2020                       OUT017             Tier 2                Medium       Supermarket Type1  0.073698         15.350       91.9120   5.0       1\n",
              "                  DRD60            Soft Drinks   2022                       OUT018             Tier 3                Medium       Supermarket Type2  0.037384         15.700       179.7634  4.6       1\n",
              "                  DRD49            Soft Drinks   2010                       OUT046             Tier 1                Small        Supermarket Type1  0.167831         9.895        237.4564  4.0       1\n",
              "Name: count, Length: 7060, dtype: int64"
            ],
            "text/html": [
              "<div>\n",
              "<style scoped>\n",
              "    .dataframe tbody tr th:only-of-type {\n",
              "        vertical-align: middle;\n",
              "    }\n",
              "\n",
              "    .dataframe tbody tr th {\n",
              "        vertical-align: top;\n",
              "    }\n",
              "\n",
              "    .dataframe thead th {\n",
              "        text-align: right;\n",
              "    }\n",
              "</style>\n",
              "<table border=\"1\" class=\"dataframe\">\n",
              "  <thead>\n",
              "    <tr style=\"text-align: right;\">\n",
              "      <th></th>\n",
              "      <th></th>\n",
              "      <th></th>\n",
              "      <th></th>\n",
              "      <th></th>\n",
              "      <th></th>\n",
              "      <th></th>\n",
              "      <th></th>\n",
              "      <th></th>\n",
              "      <th></th>\n",
              "      <th></th>\n",
              "      <th></th>\n",
              "      <th>count</th>\n",
              "    </tr>\n",
              "    <tr>\n",
              "      <th>Item Fat Content</th>\n",
              "      <th>Item Identifier</th>\n",
              "      <th>Item Type</th>\n",
              "      <th>Outlet Establishment Year</th>\n",
              "      <th>Outlet Identifier</th>\n",
              "      <th>Outlet Location Type</th>\n",
              "      <th>Outlet Size</th>\n",
              "      <th>Outlet Type</th>\n",
              "      <th>Item Visibility</th>\n",
              "      <th>Item Weight</th>\n",
              "      <th>Sales</th>\n",
              "      <th>Rating</th>\n",
              "      <th></th>\n",
              "    </tr>\n",
              "  </thead>\n",
              "  <tbody>\n",
              "    <tr>\n",
              "      <th>reg</th>\n",
              "      <th>FDZ59</th>\n",
              "      <th>Baking Goods</th>\n",
              "      <th>2011</th>\n",
              "      <th>OUT010</th>\n",
              "      <th>Tier 3</th>\n",
              "      <th>Small</th>\n",
              "      <th>Grocery Store</th>\n",
              "      <th>0.174111</th>\n",
              "      <th>6.630</th>\n",
              "      <th>166.8500</th>\n",
              "      <th>4.4</th>\n",
              "      <td>1</td>\n",
              "    </tr>\n",
              "    <tr>\n",
              "      <th rowspan=\"3\" valign=\"top\">LF</th>\n",
              "      <th>DRA12</th>\n",
              "      <th>Soft Drinks</th>\n",
              "      <th>2017</th>\n",
              "      <th>OUT035</th>\n",
              "      <th>Tier 2</th>\n",
              "      <th>Small</th>\n",
              "      <th>Supermarket Type1</th>\n",
              "      <th>0.000000</th>\n",
              "      <th>11.600</th>\n",
              "      <th>141.9154</th>\n",
              "      <th>4.0</th>\n",
              "      <td>1</td>\n",
              "    </tr>\n",
              "    <tr>\n",
              "      <th>DRD12</th>\n",
              "      <th>Soft Drinks</th>\n",
              "      <th>2022</th>\n",
              "      <th>OUT018</th>\n",
              "      <th>Tier 3</th>\n",
              "      <th>Medium</th>\n",
              "      <th>Supermarket Type2</th>\n",
              "      <th>0.077508</th>\n",
              "      <th>6.960</th>\n",
              "      <th>92.3146</th>\n",
              "      <th>4.0</th>\n",
              "      <td>1</td>\n",
              "    </tr>\n",
              "    <tr>\n",
              "      <th>DRD25</th>\n",
              "      <th>Soft Drinks</th>\n",
              "      <th>2022</th>\n",
              "      <th>OUT018</th>\n",
              "      <th>Tier 3</th>\n",
              "      <th>Medium</th>\n",
              "      <th>Supermarket Type2</th>\n",
              "      <th>0.079294</th>\n",
              "      <th>6.135</th>\n",
              "      <th>111.2860</th>\n",
              "      <th>4.3</th>\n",
              "      <td>1</td>\n",
              "    </tr>\n",
              "    <tr>\n",
              "      <th>reg</th>\n",
              "      <th>FDW09</th>\n",
              "      <th>Snack Foods</th>\n",
              "      <th>2000</th>\n",
              "      <th>OUT013</th>\n",
              "      <th>Tier 3</th>\n",
              "      <th>High</th>\n",
              "      <th>Supermarket Type1</th>\n",
              "      <th>0.025899</th>\n",
              "      <th>13.650</th>\n",
              "      <th>81.1302</th>\n",
              "      <th>4.4</th>\n",
              "      <td>1</td>\n",
              "    </tr>\n",
              "    <tr>\n",
              "      <th>...</th>\n",
              "      <th>...</th>\n",
              "      <th>...</th>\n",
              "      <th>...</th>\n",
              "      <th>...</th>\n",
              "      <th>...</th>\n",
              "      <th>...</th>\n",
              "      <th>...</th>\n",
              "      <th>...</th>\n",
              "      <th>...</th>\n",
              "      <th>...</th>\n",
              "      <th>...</th>\n",
              "      <td>...</td>\n",
              "    </tr>\n",
              "    <tr>\n",
              "      <th rowspan=\"5\" valign=\"top\">LF</th>\n",
              "      <th>DRE48</th>\n",
              "      <th>Soft Drinks</th>\n",
              "      <th>2017</th>\n",
              "      <th>OUT035</th>\n",
              "      <th>Tier 2</th>\n",
              "      <th>Small</th>\n",
              "      <th>Supermarket Type1</th>\n",
              "      <th>0.017322</th>\n",
              "      <th>8.430</th>\n",
              "      <th>196.8768</th>\n",
              "      <th>4.0</th>\n",
              "      <td>1</td>\n",
              "    </tr>\n",
              "    <tr>\n",
              "      <th>DRE37</th>\n",
              "      <th>Soft Drinks</th>\n",
              "      <th>2022</th>\n",
              "      <th>OUT018</th>\n",
              "      <th>Tier 3</th>\n",
              "      <th>Medium</th>\n",
              "      <th>Supermarket Type2</th>\n",
              "      <th>0.094603</th>\n",
              "      <th>13.500</th>\n",
              "      <th>187.0872</th>\n",
              "      <th>4.0</th>\n",
              "      <td>1</td>\n",
              "    </tr>\n",
              "    <tr>\n",
              "      <th>DRE25</th>\n",
              "      <th>Soft Drinks</th>\n",
              "      <th>2020</th>\n",
              "      <th>OUT017</th>\n",
              "      <th>Tier 2</th>\n",
              "      <th>Medium</th>\n",
              "      <th>Supermarket Type1</th>\n",
              "      <th>0.073698</th>\n",
              "      <th>15.350</th>\n",
              "      <th>91.9120</th>\n",
              "      <th>5.0</th>\n",
              "      <td>1</td>\n",
              "    </tr>\n",
              "    <tr>\n",
              "      <th>DRD60</th>\n",
              "      <th>Soft Drinks</th>\n",
              "      <th>2022</th>\n",
              "      <th>OUT018</th>\n",
              "      <th>Tier 3</th>\n",
              "      <th>Medium</th>\n",
              "      <th>Supermarket Type2</th>\n",
              "      <th>0.037384</th>\n",
              "      <th>15.700</th>\n",
              "      <th>179.7634</th>\n",
              "      <th>4.6</th>\n",
              "      <td>1</td>\n",
              "    </tr>\n",
              "    <tr>\n",
              "      <th>DRD49</th>\n",
              "      <th>Soft Drinks</th>\n",
              "      <th>2010</th>\n",
              "      <th>OUT046</th>\n",
              "      <th>Tier 1</th>\n",
              "      <th>Small</th>\n",
              "      <th>Supermarket Type1</th>\n",
              "      <th>0.167831</th>\n",
              "      <th>9.895</th>\n",
              "      <th>237.4564</th>\n",
              "      <th>4.0</th>\n",
              "      <td>1</td>\n",
              "    </tr>\n",
              "  </tbody>\n",
              "</table>\n",
              "<p>7060 rows × 1 columns</p>\n",
              "</div><br><label><b>dtype:</b> int64</label>"
            ]
          },
          "metadata": {},
          "execution_count": 7
        }
      ]
    },
    {
      "cell_type": "code",
      "source": [
        "df.info()"
      ],
      "metadata": {
        "id": "y-caaul6JQVp",
        "colab": {
          "base_uri": "https://localhost:8080/"
        },
        "outputId": "ad3f6354-332d-4e73-d219-b3b4d139fa80"
      },
      "execution_count": 8,
      "outputs": [
        {
          "output_type": "stream",
          "name": "stdout",
          "text": [
            "<class 'pandas.core.frame.DataFrame'>\n",
            "RangeIndex: 8523 entries, 0 to 8522\n",
            "Data columns (total 12 columns):\n",
            " #   Column                     Non-Null Count  Dtype  \n",
            "---  ------                     --------------  -----  \n",
            " 0   Item Fat Content           8523 non-null   object \n",
            " 1   Item Identifier            8523 non-null   object \n",
            " 2   Item Type                  8523 non-null   object \n",
            " 3   Outlet Establishment Year  8523 non-null   int64  \n",
            " 4   Outlet Identifier          8523 non-null   object \n",
            " 5   Outlet Location Type       8523 non-null   object \n",
            " 6   Outlet Size                8523 non-null   object \n",
            " 7   Outlet Type                8523 non-null   object \n",
            " 8   Item Visibility            8523 non-null   float64\n",
            " 9   Item Weight                7060 non-null   float64\n",
            " 10  Sales                      8523 non-null   float64\n",
            " 11  Rating                     8523 non-null   float64\n",
            "dtypes: float64(4), int64(1), object(7)\n",
            "memory usage: 799.2+ KB\n"
          ]
        }
      ]
    },
    {
      "cell_type": "code",
      "source": [
        "df.describe(include='all')"
      ],
      "metadata": {
        "id": "Zw2Qn96RJQS3",
        "colab": {
          "base_uri": "https://localhost:8080/",
          "height": 466
        },
        "outputId": "65f33fe6-e467-4ac8-935d-49522d133770"
      },
      "execution_count": 9,
      "outputs": [
        {
          "output_type": "execute_result",
          "data": {
            "text/plain": [
              "       Item Fat Content Item Identifier              Item Type  \\\n",
              "count              8523            8523                   8523   \n",
              "unique                5            1559                     16   \n",
              "top             Low Fat           FDW13  Fruits and Vegetables   \n",
              "freq               5089              10                   1232   \n",
              "mean                NaN             NaN                    NaN   \n",
              "std                 NaN             NaN                    NaN   \n",
              "min                 NaN             NaN                    NaN   \n",
              "25%                 NaN             NaN                    NaN   \n",
              "50%                 NaN             NaN                    NaN   \n",
              "75%                 NaN             NaN                    NaN   \n",
              "max                 NaN             NaN                    NaN   \n",
              "\n",
              "        Outlet Establishment Year Outlet Identifier Outlet Location Type  \\\n",
              "count                 8523.000000              8523                 8523   \n",
              "unique                        NaN                10                    3   \n",
              "top                           NaN            OUT027               Tier 3   \n",
              "freq                          NaN               935                 3350   \n",
              "mean                  2010.831867               NaN                  NaN   \n",
              "std                      8.371760               NaN                  NaN   \n",
              "min                   1998.000000               NaN                  NaN   \n",
              "25%                   2000.000000               NaN                  NaN   \n",
              "50%                   2012.000000               NaN                  NaN   \n",
              "75%                   2017.000000               NaN                  NaN   \n",
              "max                   2022.000000               NaN                  NaN   \n",
              "\n",
              "       Outlet Size        Outlet Type  Item Visibility  Item Weight  \\\n",
              "count         8523               8523      8523.000000  7060.000000   \n",
              "unique           3                  4              NaN          NaN   \n",
              "top         Medium  Supermarket Type1              NaN          NaN   \n",
              "freq          3631               5577              NaN          NaN   \n",
              "mean           NaN                NaN         0.066132    12.857645   \n",
              "std            NaN                NaN         0.051598     4.643456   \n",
              "min            NaN                NaN         0.000000     4.555000   \n",
              "25%            NaN                NaN         0.026989     8.773750   \n",
              "50%            NaN                NaN         0.053931    12.600000   \n",
              "75%            NaN                NaN         0.094585    16.850000   \n",
              "max            NaN                NaN         0.328391    21.350000   \n",
              "\n",
              "              Sales       Rating  \n",
              "count   8523.000000  8523.000000  \n",
              "unique          NaN          NaN  \n",
              "top             NaN          NaN  \n",
              "freq            NaN          NaN  \n",
              "mean     140.992782     3.965857  \n",
              "std       62.275067     0.605651  \n",
              "min       31.290000     1.000000  \n",
              "25%       93.826500     4.000000  \n",
              "50%      143.012800     4.000000  \n",
              "75%      185.643700     4.200000  \n",
              "max      266.888400     5.000000  "
            ],
            "text/html": [
              "\n",
              "  <div id=\"df-47f3a844-8fb4-464e-ac6e-2e243a4902d6\" class=\"colab-df-container\">\n",
              "    <div>\n",
              "<style scoped>\n",
              "    .dataframe tbody tr th:only-of-type {\n",
              "        vertical-align: middle;\n",
              "    }\n",
              "\n",
              "    .dataframe tbody tr th {\n",
              "        vertical-align: top;\n",
              "    }\n",
              "\n",
              "    .dataframe thead th {\n",
              "        text-align: right;\n",
              "    }\n",
              "</style>\n",
              "<table border=\"1\" class=\"dataframe\">\n",
              "  <thead>\n",
              "    <tr style=\"text-align: right;\">\n",
              "      <th></th>\n",
              "      <th>Item Fat Content</th>\n",
              "      <th>Item Identifier</th>\n",
              "      <th>Item Type</th>\n",
              "      <th>Outlet Establishment Year</th>\n",
              "      <th>Outlet Identifier</th>\n",
              "      <th>Outlet Location Type</th>\n",
              "      <th>Outlet Size</th>\n",
              "      <th>Outlet Type</th>\n",
              "      <th>Item Visibility</th>\n",
              "      <th>Item Weight</th>\n",
              "      <th>Sales</th>\n",
              "      <th>Rating</th>\n",
              "    </tr>\n",
              "  </thead>\n",
              "  <tbody>\n",
              "    <tr>\n",
              "      <th>count</th>\n",
              "      <td>8523</td>\n",
              "      <td>8523</td>\n",
              "      <td>8523</td>\n",
              "      <td>8523.000000</td>\n",
              "      <td>8523</td>\n",
              "      <td>8523</td>\n",
              "      <td>8523</td>\n",
              "      <td>8523</td>\n",
              "      <td>8523.000000</td>\n",
              "      <td>7060.000000</td>\n",
              "      <td>8523.000000</td>\n",
              "      <td>8523.000000</td>\n",
              "    </tr>\n",
              "    <tr>\n",
              "      <th>unique</th>\n",
              "      <td>5</td>\n",
              "      <td>1559</td>\n",
              "      <td>16</td>\n",
              "      <td>NaN</td>\n",
              "      <td>10</td>\n",
              "      <td>3</td>\n",
              "      <td>3</td>\n",
              "      <td>4</td>\n",
              "      <td>NaN</td>\n",
              "      <td>NaN</td>\n",
              "      <td>NaN</td>\n",
              "      <td>NaN</td>\n",
              "    </tr>\n",
              "    <tr>\n",
              "      <th>top</th>\n",
              "      <td>Low Fat</td>\n",
              "      <td>FDW13</td>\n",
              "      <td>Fruits and Vegetables</td>\n",
              "      <td>NaN</td>\n",
              "      <td>OUT027</td>\n",
              "      <td>Tier 3</td>\n",
              "      <td>Medium</td>\n",
              "      <td>Supermarket Type1</td>\n",
              "      <td>NaN</td>\n",
              "      <td>NaN</td>\n",
              "      <td>NaN</td>\n",
              "      <td>NaN</td>\n",
              "    </tr>\n",
              "    <tr>\n",
              "      <th>freq</th>\n",
              "      <td>5089</td>\n",
              "      <td>10</td>\n",
              "      <td>1232</td>\n",
              "      <td>NaN</td>\n",
              "      <td>935</td>\n",
              "      <td>3350</td>\n",
              "      <td>3631</td>\n",
              "      <td>5577</td>\n",
              "      <td>NaN</td>\n",
              "      <td>NaN</td>\n",
              "      <td>NaN</td>\n",
              "      <td>NaN</td>\n",
              "    </tr>\n",
              "    <tr>\n",
              "      <th>mean</th>\n",
              "      <td>NaN</td>\n",
              "      <td>NaN</td>\n",
              "      <td>NaN</td>\n",
              "      <td>2010.831867</td>\n",
              "      <td>NaN</td>\n",
              "      <td>NaN</td>\n",
              "      <td>NaN</td>\n",
              "      <td>NaN</td>\n",
              "      <td>0.066132</td>\n",
              "      <td>12.857645</td>\n",
              "      <td>140.992782</td>\n",
              "      <td>3.965857</td>\n",
              "    </tr>\n",
              "    <tr>\n",
              "      <th>std</th>\n",
              "      <td>NaN</td>\n",
              "      <td>NaN</td>\n",
              "      <td>NaN</td>\n",
              "      <td>8.371760</td>\n",
              "      <td>NaN</td>\n",
              "      <td>NaN</td>\n",
              "      <td>NaN</td>\n",
              "      <td>NaN</td>\n",
              "      <td>0.051598</td>\n",
              "      <td>4.643456</td>\n",
              "      <td>62.275067</td>\n",
              "      <td>0.605651</td>\n",
              "    </tr>\n",
              "    <tr>\n",
              "      <th>min</th>\n",
              "      <td>NaN</td>\n",
              "      <td>NaN</td>\n",
              "      <td>NaN</td>\n",
              "      <td>1998.000000</td>\n",
              "      <td>NaN</td>\n",
              "      <td>NaN</td>\n",
              "      <td>NaN</td>\n",
              "      <td>NaN</td>\n",
              "      <td>0.000000</td>\n",
              "      <td>4.555000</td>\n",
              "      <td>31.290000</td>\n",
              "      <td>1.000000</td>\n",
              "    </tr>\n",
              "    <tr>\n",
              "      <th>25%</th>\n",
              "      <td>NaN</td>\n",
              "      <td>NaN</td>\n",
              "      <td>NaN</td>\n",
              "      <td>2000.000000</td>\n",
              "      <td>NaN</td>\n",
              "      <td>NaN</td>\n",
              "      <td>NaN</td>\n",
              "      <td>NaN</td>\n",
              "      <td>0.026989</td>\n",
              "      <td>8.773750</td>\n",
              "      <td>93.826500</td>\n",
              "      <td>4.000000</td>\n",
              "    </tr>\n",
              "    <tr>\n",
              "      <th>50%</th>\n",
              "      <td>NaN</td>\n",
              "      <td>NaN</td>\n",
              "      <td>NaN</td>\n",
              "      <td>2012.000000</td>\n",
              "      <td>NaN</td>\n",
              "      <td>NaN</td>\n",
              "      <td>NaN</td>\n",
              "      <td>NaN</td>\n",
              "      <td>0.053931</td>\n",
              "      <td>12.600000</td>\n",
              "      <td>143.012800</td>\n",
              "      <td>4.000000</td>\n",
              "    </tr>\n",
              "    <tr>\n",
              "      <th>75%</th>\n",
              "      <td>NaN</td>\n",
              "      <td>NaN</td>\n",
              "      <td>NaN</td>\n",
              "      <td>2017.000000</td>\n",
              "      <td>NaN</td>\n",
              "      <td>NaN</td>\n",
              "      <td>NaN</td>\n",
              "      <td>NaN</td>\n",
              "      <td>0.094585</td>\n",
              "      <td>16.850000</td>\n",
              "      <td>185.643700</td>\n",
              "      <td>4.200000</td>\n",
              "    </tr>\n",
              "    <tr>\n",
              "      <th>max</th>\n",
              "      <td>NaN</td>\n",
              "      <td>NaN</td>\n",
              "      <td>NaN</td>\n",
              "      <td>2022.000000</td>\n",
              "      <td>NaN</td>\n",
              "      <td>NaN</td>\n",
              "      <td>NaN</td>\n",
              "      <td>NaN</td>\n",
              "      <td>0.328391</td>\n",
              "      <td>21.350000</td>\n",
              "      <td>266.888400</td>\n",
              "      <td>5.000000</td>\n",
              "    </tr>\n",
              "  </tbody>\n",
              "</table>\n",
              "</div>\n",
              "    <div class=\"colab-df-buttons\">\n",
              "\n",
              "  <div class=\"colab-df-container\">\n",
              "    <button class=\"colab-df-convert\" onclick=\"convertToInteractive('df-47f3a844-8fb4-464e-ac6e-2e243a4902d6')\"\n",
              "            title=\"Convert this dataframe to an interactive table.\"\n",
              "            style=\"display:none;\">\n",
              "\n",
              "  <svg xmlns=\"http://www.w3.org/2000/svg\" height=\"24px\" viewBox=\"0 -960 960 960\">\n",
              "    <path d=\"M120-120v-720h720v720H120Zm60-500h600v-160H180v160Zm220 220h160v-160H400v160Zm0 220h160v-160H400v160ZM180-400h160v-160H180v160Zm440 0h160v-160H620v160ZM180-180h160v-160H180v160Zm440 0h160v-160H620v160Z\"/>\n",
              "  </svg>\n",
              "    </button>\n",
              "\n",
              "  <style>\n",
              "    .colab-df-container {\n",
              "      display:flex;\n",
              "      gap: 12px;\n",
              "    }\n",
              "\n",
              "    .colab-df-convert {\n",
              "      background-color: #E8F0FE;\n",
              "      border: none;\n",
              "      border-radius: 50%;\n",
              "      cursor: pointer;\n",
              "      display: none;\n",
              "      fill: #1967D2;\n",
              "      height: 32px;\n",
              "      padding: 0 0 0 0;\n",
              "      width: 32px;\n",
              "    }\n",
              "\n",
              "    .colab-df-convert:hover {\n",
              "      background-color: #E2EBFA;\n",
              "      box-shadow: 0px 1px 2px rgba(60, 64, 67, 0.3), 0px 1px 3px 1px rgba(60, 64, 67, 0.15);\n",
              "      fill: #174EA6;\n",
              "    }\n",
              "\n",
              "    .colab-df-buttons div {\n",
              "      margin-bottom: 4px;\n",
              "    }\n",
              "\n",
              "    [theme=dark] .colab-df-convert {\n",
              "      background-color: #3B4455;\n",
              "      fill: #D2E3FC;\n",
              "    }\n",
              "\n",
              "    [theme=dark] .colab-df-convert:hover {\n",
              "      background-color: #434B5C;\n",
              "      box-shadow: 0px 1px 3px 1px rgba(0, 0, 0, 0.15);\n",
              "      filter: drop-shadow(0px 1px 2px rgba(0, 0, 0, 0.3));\n",
              "      fill: #FFFFFF;\n",
              "    }\n",
              "  </style>\n",
              "\n",
              "    <script>\n",
              "      const buttonEl =\n",
              "        document.querySelector('#df-47f3a844-8fb4-464e-ac6e-2e243a4902d6 button.colab-df-convert');\n",
              "      buttonEl.style.display =\n",
              "        google.colab.kernel.accessAllowed ? 'block' : 'none';\n",
              "\n",
              "      async function convertToInteractive(key) {\n",
              "        const element = document.querySelector('#df-47f3a844-8fb4-464e-ac6e-2e243a4902d6');\n",
              "        const dataTable =\n",
              "          await google.colab.kernel.invokeFunction('convertToInteractive',\n",
              "                                                    [key], {});\n",
              "        if (!dataTable) return;\n",
              "\n",
              "        const docLinkHtml = 'Like what you see? Visit the ' +\n",
              "          '<a target=\"_blank\" href=https://colab.research.google.com/notebooks/data_table.ipynb>data table notebook</a>'\n",
              "          + ' to learn more about interactive tables.';\n",
              "        element.innerHTML = '';\n",
              "        dataTable['output_type'] = 'display_data';\n",
              "        await google.colab.output.renderOutput(dataTable, element);\n",
              "        const docLink = document.createElement('div');\n",
              "        docLink.innerHTML = docLinkHtml;\n",
              "        element.appendChild(docLink);\n",
              "      }\n",
              "    </script>\n",
              "  </div>\n",
              "\n",
              "\n",
              "    <div id=\"df-c52759ff-6937-43da-8032-13698a6c68ab\">\n",
              "      <button class=\"colab-df-quickchart\" onclick=\"quickchart('df-c52759ff-6937-43da-8032-13698a6c68ab')\"\n",
              "                title=\"Suggest charts\"\n",
              "                style=\"display:none;\">\n",
              "\n",
              "<svg xmlns=\"http://www.w3.org/2000/svg\" height=\"24px\"viewBox=\"0 0 24 24\"\n",
              "     width=\"24px\">\n",
              "    <g>\n",
              "        <path d=\"M19 3H5c-1.1 0-2 .9-2 2v14c0 1.1.9 2 2 2h14c1.1 0 2-.9 2-2V5c0-1.1-.9-2-2-2zM9 17H7v-7h2v7zm4 0h-2V7h2v10zm4 0h-2v-4h2v4z\"/>\n",
              "    </g>\n",
              "</svg>\n",
              "      </button>\n",
              "\n",
              "<style>\n",
              "  .colab-df-quickchart {\n",
              "      --bg-color: #E8F0FE;\n",
              "      --fill-color: #1967D2;\n",
              "      --hover-bg-color: #E2EBFA;\n",
              "      --hover-fill-color: #174EA6;\n",
              "      --disabled-fill-color: #AAA;\n",
              "      --disabled-bg-color: #DDD;\n",
              "  }\n",
              "\n",
              "  [theme=dark] .colab-df-quickchart {\n",
              "      --bg-color: #3B4455;\n",
              "      --fill-color: #D2E3FC;\n",
              "      --hover-bg-color: #434B5C;\n",
              "      --hover-fill-color: #FFFFFF;\n",
              "      --disabled-bg-color: #3B4455;\n",
              "      --disabled-fill-color: #666;\n",
              "  }\n",
              "\n",
              "  .colab-df-quickchart {\n",
              "    background-color: var(--bg-color);\n",
              "    border: none;\n",
              "    border-radius: 50%;\n",
              "    cursor: pointer;\n",
              "    display: none;\n",
              "    fill: var(--fill-color);\n",
              "    height: 32px;\n",
              "    padding: 0;\n",
              "    width: 32px;\n",
              "  }\n",
              "\n",
              "  .colab-df-quickchart:hover {\n",
              "    background-color: var(--hover-bg-color);\n",
              "    box-shadow: 0 1px 2px rgba(60, 64, 67, 0.3), 0 1px 3px 1px rgba(60, 64, 67, 0.15);\n",
              "    fill: var(--button-hover-fill-color);\n",
              "  }\n",
              "\n",
              "  .colab-df-quickchart-complete:disabled,\n",
              "  .colab-df-quickchart-complete:disabled:hover {\n",
              "    background-color: var(--disabled-bg-color);\n",
              "    fill: var(--disabled-fill-color);\n",
              "    box-shadow: none;\n",
              "  }\n",
              "\n",
              "  .colab-df-spinner {\n",
              "    border: 2px solid var(--fill-color);\n",
              "    border-color: transparent;\n",
              "    border-bottom-color: var(--fill-color);\n",
              "    animation:\n",
              "      spin 1s steps(1) infinite;\n",
              "  }\n",
              "\n",
              "  @keyframes spin {\n",
              "    0% {\n",
              "      border-color: transparent;\n",
              "      border-bottom-color: var(--fill-color);\n",
              "      border-left-color: var(--fill-color);\n",
              "    }\n",
              "    20% {\n",
              "      border-color: transparent;\n",
              "      border-left-color: var(--fill-color);\n",
              "      border-top-color: var(--fill-color);\n",
              "    }\n",
              "    30% {\n",
              "      border-color: transparent;\n",
              "      border-left-color: var(--fill-color);\n",
              "      border-top-color: var(--fill-color);\n",
              "      border-right-color: var(--fill-color);\n",
              "    }\n",
              "    40% {\n",
              "      border-color: transparent;\n",
              "      border-right-color: var(--fill-color);\n",
              "      border-top-color: var(--fill-color);\n",
              "    }\n",
              "    60% {\n",
              "      border-color: transparent;\n",
              "      border-right-color: var(--fill-color);\n",
              "    }\n",
              "    80% {\n",
              "      border-color: transparent;\n",
              "      border-right-color: var(--fill-color);\n",
              "      border-bottom-color: var(--fill-color);\n",
              "    }\n",
              "    90% {\n",
              "      border-color: transparent;\n",
              "      border-bottom-color: var(--fill-color);\n",
              "    }\n",
              "  }\n",
              "</style>\n",
              "\n",
              "      <script>\n",
              "        async function quickchart(key) {\n",
              "          const quickchartButtonEl =\n",
              "            document.querySelector('#' + key + ' button');\n",
              "          quickchartButtonEl.disabled = true;  // To prevent multiple clicks.\n",
              "          quickchartButtonEl.classList.add('colab-df-spinner');\n",
              "          try {\n",
              "            const charts = await google.colab.kernel.invokeFunction(\n",
              "                'suggestCharts', [key], {});\n",
              "          } catch (error) {\n",
              "            console.error('Error during call to suggestCharts:', error);\n",
              "          }\n",
              "          quickchartButtonEl.classList.remove('colab-df-spinner');\n",
              "          quickchartButtonEl.classList.add('colab-df-quickchart-complete');\n",
              "        }\n",
              "        (() => {\n",
              "          let quickchartButtonEl =\n",
              "            document.querySelector('#df-c52759ff-6937-43da-8032-13698a6c68ab button');\n",
              "          quickchartButtonEl.style.display =\n",
              "            google.colab.kernel.accessAllowed ? 'block' : 'none';\n",
              "        })();\n",
              "      </script>\n",
              "    </div>\n",
              "\n",
              "    </div>\n",
              "  </div>\n"
            ],
            "application/vnd.google.colaboratory.intrinsic+json": {
              "type": "dataframe",
              "summary": "{\n  \"name\": \"df\",\n  \"rows\": 11,\n  \"fields\": [\n    {\n      \"column\": \"Item Fat Content\",\n      \"properties\": {\n        \"dtype\": \"category\",\n        \"num_unique_values\": 4,\n        \"samples\": [\n          5,\n          \"5089\",\n          \"8523\"\n        ],\n        \"semantic_type\": \"\",\n        \"description\": \"\"\n      }\n    },\n    {\n      \"column\": \"Item Identifier\",\n      \"properties\": {\n        \"dtype\": \"category\",\n        \"num_unique_values\": 4,\n        \"samples\": [\n          1559,\n          \"10\",\n          \"8523\"\n        ],\n        \"semantic_type\": \"\",\n        \"description\": \"\"\n      }\n    },\n    {\n      \"column\": \"Item Type\",\n      \"properties\": {\n        \"dtype\": \"category\",\n        \"num_unique_values\": 4,\n        \"samples\": [\n          16,\n          \"1232\",\n          \"8523\"\n        ],\n        \"semantic_type\": \"\",\n        \"description\": \"\"\n      }\n    },\n    {\n      \"column\": \"Outlet Establishment Year\",\n      \"properties\": {\n        \"dtype\": \"number\",\n        \"std\": 2503.775906530676,\n        \"min\": 8.37176040809276,\n        \"max\": 8523.0,\n        \"num_unique_values\": 8,\n        \"samples\": [\n          2010.8318667135984,\n          2012.0,\n          8523.0\n        ],\n        \"semantic_type\": \"\",\n        \"description\": \"\"\n      }\n    },\n    {\n      \"column\": \"Outlet Identifier\",\n      \"properties\": {\n        \"dtype\": \"category\",\n        \"num_unique_values\": 4,\n        \"samples\": [\n          10,\n          \"935\",\n          \"8523\"\n        ],\n        \"semantic_type\": \"\",\n        \"description\": \"\"\n      }\n    },\n    {\n      \"column\": \"Outlet Location Type\",\n      \"properties\": {\n        \"dtype\": \"category\",\n        \"num_unique_values\": 4,\n        \"samples\": [\n          3,\n          \"3350\",\n          \"8523\"\n        ],\n        \"semantic_type\": \"\",\n        \"description\": \"\"\n      }\n    },\n    {\n      \"column\": \"Outlet Size\",\n      \"properties\": {\n        \"dtype\": \"category\",\n        \"num_unique_values\": 4,\n        \"samples\": [\n          3,\n          \"3631\",\n          \"8523\"\n        ],\n        \"semantic_type\": \"\",\n        \"description\": \"\"\n      }\n    },\n    {\n      \"column\": \"Outlet Type\",\n      \"properties\": {\n        \"dtype\": \"category\",\n        \"num_unique_values\": 4,\n        \"samples\": [\n          4,\n          \"5577\",\n          \"8523\"\n        ],\n        \"semantic_type\": \"\",\n        \"description\": \"\"\n      }\n    },\n    {\n      \"column\": \"Item Visibility\",\n      \"properties\": {\n        \"dtype\": \"number\",\n        \"std\": 3013.304152859587,\n        \"min\": 0.0,\n        \"max\": 8523.0,\n        \"num_unique_values\": 8,\n        \"samples\": [\n          0.06613202877895108,\n          0.053930934,\n          8523.0\n        ],\n        \"semantic_type\": \"\",\n        \"description\": \"\"\n      }\n    },\n    {\n      \"column\": \"Item Weight\",\n      \"properties\": {\n        \"dtype\": \"number\",\n        \"std\": 2491.9706342896925,\n        \"min\": 4.555,\n        \"max\": 7060.0,\n        \"num_unique_values\": 8,\n        \"samples\": [\n          12.857645184135977,\n          12.6,\n          7060.0\n        ],\n        \"semantic_type\": \"\",\n        \"description\": \"\"\n      }\n    },\n    {\n      \"column\": \"Sales\",\n      \"properties\": {\n        \"dtype\": \"number\",\n        \"std\": 2967.578504408736,\n        \"min\": 31.29,\n        \"max\": 8523.0,\n        \"num_unique_values\": 8,\n        \"samples\": [\n          140.9927819781767,\n          143.0128,\n          8523.0\n        ],\n        \"semantic_type\": \"\",\n        \"description\": \"\"\n      }\n    },\n    {\n      \"column\": \"Rating\",\n      \"properties\": {\n        \"dtype\": \"number\",\n        \"std\": 3012.1858318852687,\n        \"min\": 0.6056512797408804,\n        \"max\": 8523.0,\n        \"num_unique_values\": 7,\n        \"samples\": [\n          8523.0,\n          3.965857092573038,\n          4.2\n        ],\n        \"semantic_type\": \"\",\n        \"description\": \"\"\n      }\n    }\n  ]\n}"
            }
          },
          "metadata": {},
          "execution_count": 9
        }
      ]
    },
    {
      "cell_type": "code",
      "source": [
        "df.describe()"
      ],
      "metadata": {
        "id": "LjDwHgRQJQQd",
        "colab": {
          "base_uri": "https://localhost:8080/",
          "height": 300
        },
        "outputId": "51463e1a-c686-4f24-fdc0-06a54aa9f429"
      },
      "execution_count": 10,
      "outputs": [
        {
          "output_type": "execute_result",
          "data": {
            "text/plain": [
              "       Outlet Establishment Year  Item Visibility  Item Weight        Sales  \\\n",
              "count                8523.000000      8523.000000  7060.000000  8523.000000   \n",
              "mean                 2010.831867         0.066132    12.857645   140.992782   \n",
              "std                     8.371760         0.051598     4.643456    62.275067   \n",
              "min                  1998.000000         0.000000     4.555000    31.290000   \n",
              "25%                  2000.000000         0.026989     8.773750    93.826500   \n",
              "50%                  2012.000000         0.053931    12.600000   143.012800   \n",
              "75%                  2017.000000         0.094585    16.850000   185.643700   \n",
              "max                  2022.000000         0.328391    21.350000   266.888400   \n",
              "\n",
              "            Rating  \n",
              "count  8523.000000  \n",
              "mean      3.965857  \n",
              "std       0.605651  \n",
              "min       1.000000  \n",
              "25%       4.000000  \n",
              "50%       4.000000  \n",
              "75%       4.200000  \n",
              "max       5.000000  "
            ],
            "text/html": [
              "\n",
              "  <div id=\"df-71d2f3b2-9414-411d-8acd-ea2e03a825c9\" class=\"colab-df-container\">\n",
              "    <div>\n",
              "<style scoped>\n",
              "    .dataframe tbody tr th:only-of-type {\n",
              "        vertical-align: middle;\n",
              "    }\n",
              "\n",
              "    .dataframe tbody tr th {\n",
              "        vertical-align: top;\n",
              "    }\n",
              "\n",
              "    .dataframe thead th {\n",
              "        text-align: right;\n",
              "    }\n",
              "</style>\n",
              "<table border=\"1\" class=\"dataframe\">\n",
              "  <thead>\n",
              "    <tr style=\"text-align: right;\">\n",
              "      <th></th>\n",
              "      <th>Outlet Establishment Year</th>\n",
              "      <th>Item Visibility</th>\n",
              "      <th>Item Weight</th>\n",
              "      <th>Sales</th>\n",
              "      <th>Rating</th>\n",
              "    </tr>\n",
              "  </thead>\n",
              "  <tbody>\n",
              "    <tr>\n",
              "      <th>count</th>\n",
              "      <td>8523.000000</td>\n",
              "      <td>8523.000000</td>\n",
              "      <td>7060.000000</td>\n",
              "      <td>8523.000000</td>\n",
              "      <td>8523.000000</td>\n",
              "    </tr>\n",
              "    <tr>\n",
              "      <th>mean</th>\n",
              "      <td>2010.831867</td>\n",
              "      <td>0.066132</td>\n",
              "      <td>12.857645</td>\n",
              "      <td>140.992782</td>\n",
              "      <td>3.965857</td>\n",
              "    </tr>\n",
              "    <tr>\n",
              "      <th>std</th>\n",
              "      <td>8.371760</td>\n",
              "      <td>0.051598</td>\n",
              "      <td>4.643456</td>\n",
              "      <td>62.275067</td>\n",
              "      <td>0.605651</td>\n",
              "    </tr>\n",
              "    <tr>\n",
              "      <th>min</th>\n",
              "      <td>1998.000000</td>\n",
              "      <td>0.000000</td>\n",
              "      <td>4.555000</td>\n",
              "      <td>31.290000</td>\n",
              "      <td>1.000000</td>\n",
              "    </tr>\n",
              "    <tr>\n",
              "      <th>25%</th>\n",
              "      <td>2000.000000</td>\n",
              "      <td>0.026989</td>\n",
              "      <td>8.773750</td>\n",
              "      <td>93.826500</td>\n",
              "      <td>4.000000</td>\n",
              "    </tr>\n",
              "    <tr>\n",
              "      <th>50%</th>\n",
              "      <td>2012.000000</td>\n",
              "      <td>0.053931</td>\n",
              "      <td>12.600000</td>\n",
              "      <td>143.012800</td>\n",
              "      <td>4.000000</td>\n",
              "    </tr>\n",
              "    <tr>\n",
              "      <th>75%</th>\n",
              "      <td>2017.000000</td>\n",
              "      <td>0.094585</td>\n",
              "      <td>16.850000</td>\n",
              "      <td>185.643700</td>\n",
              "      <td>4.200000</td>\n",
              "    </tr>\n",
              "    <tr>\n",
              "      <th>max</th>\n",
              "      <td>2022.000000</td>\n",
              "      <td>0.328391</td>\n",
              "      <td>21.350000</td>\n",
              "      <td>266.888400</td>\n",
              "      <td>5.000000</td>\n",
              "    </tr>\n",
              "  </tbody>\n",
              "</table>\n",
              "</div>\n",
              "    <div class=\"colab-df-buttons\">\n",
              "\n",
              "  <div class=\"colab-df-container\">\n",
              "    <button class=\"colab-df-convert\" onclick=\"convertToInteractive('df-71d2f3b2-9414-411d-8acd-ea2e03a825c9')\"\n",
              "            title=\"Convert this dataframe to an interactive table.\"\n",
              "            style=\"display:none;\">\n",
              "\n",
              "  <svg xmlns=\"http://www.w3.org/2000/svg\" height=\"24px\" viewBox=\"0 -960 960 960\">\n",
              "    <path d=\"M120-120v-720h720v720H120Zm60-500h600v-160H180v160Zm220 220h160v-160H400v160Zm0 220h160v-160H400v160ZM180-400h160v-160H180v160Zm440 0h160v-160H620v160ZM180-180h160v-160H180v160Zm440 0h160v-160H620v160Z\"/>\n",
              "  </svg>\n",
              "    </button>\n",
              "\n",
              "  <style>\n",
              "    .colab-df-container {\n",
              "      display:flex;\n",
              "      gap: 12px;\n",
              "    }\n",
              "\n",
              "    .colab-df-convert {\n",
              "      background-color: #E8F0FE;\n",
              "      border: none;\n",
              "      border-radius: 50%;\n",
              "      cursor: pointer;\n",
              "      display: none;\n",
              "      fill: #1967D2;\n",
              "      height: 32px;\n",
              "      padding: 0 0 0 0;\n",
              "      width: 32px;\n",
              "    }\n",
              "\n",
              "    .colab-df-convert:hover {\n",
              "      background-color: #E2EBFA;\n",
              "      box-shadow: 0px 1px 2px rgba(60, 64, 67, 0.3), 0px 1px 3px 1px rgba(60, 64, 67, 0.15);\n",
              "      fill: #174EA6;\n",
              "    }\n",
              "\n",
              "    .colab-df-buttons div {\n",
              "      margin-bottom: 4px;\n",
              "    }\n",
              "\n",
              "    [theme=dark] .colab-df-convert {\n",
              "      background-color: #3B4455;\n",
              "      fill: #D2E3FC;\n",
              "    }\n",
              "\n",
              "    [theme=dark] .colab-df-convert:hover {\n",
              "      background-color: #434B5C;\n",
              "      box-shadow: 0px 1px 3px 1px rgba(0, 0, 0, 0.15);\n",
              "      filter: drop-shadow(0px 1px 2px rgba(0, 0, 0, 0.3));\n",
              "      fill: #FFFFFF;\n",
              "    }\n",
              "  </style>\n",
              "\n",
              "    <script>\n",
              "      const buttonEl =\n",
              "        document.querySelector('#df-71d2f3b2-9414-411d-8acd-ea2e03a825c9 button.colab-df-convert');\n",
              "      buttonEl.style.display =\n",
              "        google.colab.kernel.accessAllowed ? 'block' : 'none';\n",
              "\n",
              "      async function convertToInteractive(key) {\n",
              "        const element = document.querySelector('#df-71d2f3b2-9414-411d-8acd-ea2e03a825c9');\n",
              "        const dataTable =\n",
              "          await google.colab.kernel.invokeFunction('convertToInteractive',\n",
              "                                                    [key], {});\n",
              "        if (!dataTable) return;\n",
              "\n",
              "        const docLinkHtml = 'Like what you see? Visit the ' +\n",
              "          '<a target=\"_blank\" href=https://colab.research.google.com/notebooks/data_table.ipynb>data table notebook</a>'\n",
              "          + ' to learn more about interactive tables.';\n",
              "        element.innerHTML = '';\n",
              "        dataTable['output_type'] = 'display_data';\n",
              "        await google.colab.output.renderOutput(dataTable, element);\n",
              "        const docLink = document.createElement('div');\n",
              "        docLink.innerHTML = docLinkHtml;\n",
              "        element.appendChild(docLink);\n",
              "      }\n",
              "    </script>\n",
              "  </div>\n",
              "\n",
              "\n",
              "    <div id=\"df-a0476d8d-bd63-4815-9aa3-fd93897cdb9f\">\n",
              "      <button class=\"colab-df-quickchart\" onclick=\"quickchart('df-a0476d8d-bd63-4815-9aa3-fd93897cdb9f')\"\n",
              "                title=\"Suggest charts\"\n",
              "                style=\"display:none;\">\n",
              "\n",
              "<svg xmlns=\"http://www.w3.org/2000/svg\" height=\"24px\"viewBox=\"0 0 24 24\"\n",
              "     width=\"24px\">\n",
              "    <g>\n",
              "        <path d=\"M19 3H5c-1.1 0-2 .9-2 2v14c0 1.1.9 2 2 2h14c1.1 0 2-.9 2-2V5c0-1.1-.9-2-2-2zM9 17H7v-7h2v7zm4 0h-2V7h2v10zm4 0h-2v-4h2v4z\"/>\n",
              "    </g>\n",
              "</svg>\n",
              "      </button>\n",
              "\n",
              "<style>\n",
              "  .colab-df-quickchart {\n",
              "      --bg-color: #E8F0FE;\n",
              "      --fill-color: #1967D2;\n",
              "      --hover-bg-color: #E2EBFA;\n",
              "      --hover-fill-color: #174EA6;\n",
              "      --disabled-fill-color: #AAA;\n",
              "      --disabled-bg-color: #DDD;\n",
              "  }\n",
              "\n",
              "  [theme=dark] .colab-df-quickchart {\n",
              "      --bg-color: #3B4455;\n",
              "      --fill-color: #D2E3FC;\n",
              "      --hover-bg-color: #434B5C;\n",
              "      --hover-fill-color: #FFFFFF;\n",
              "      --disabled-bg-color: #3B4455;\n",
              "      --disabled-fill-color: #666;\n",
              "  }\n",
              "\n",
              "  .colab-df-quickchart {\n",
              "    background-color: var(--bg-color);\n",
              "    border: none;\n",
              "    border-radius: 50%;\n",
              "    cursor: pointer;\n",
              "    display: none;\n",
              "    fill: var(--fill-color);\n",
              "    height: 32px;\n",
              "    padding: 0;\n",
              "    width: 32px;\n",
              "  }\n",
              "\n",
              "  .colab-df-quickchart:hover {\n",
              "    background-color: var(--hover-bg-color);\n",
              "    box-shadow: 0 1px 2px rgba(60, 64, 67, 0.3), 0 1px 3px 1px rgba(60, 64, 67, 0.15);\n",
              "    fill: var(--button-hover-fill-color);\n",
              "  }\n",
              "\n",
              "  .colab-df-quickchart-complete:disabled,\n",
              "  .colab-df-quickchart-complete:disabled:hover {\n",
              "    background-color: var(--disabled-bg-color);\n",
              "    fill: var(--disabled-fill-color);\n",
              "    box-shadow: none;\n",
              "  }\n",
              "\n",
              "  .colab-df-spinner {\n",
              "    border: 2px solid var(--fill-color);\n",
              "    border-color: transparent;\n",
              "    border-bottom-color: var(--fill-color);\n",
              "    animation:\n",
              "      spin 1s steps(1) infinite;\n",
              "  }\n",
              "\n",
              "  @keyframes spin {\n",
              "    0% {\n",
              "      border-color: transparent;\n",
              "      border-bottom-color: var(--fill-color);\n",
              "      border-left-color: var(--fill-color);\n",
              "    }\n",
              "    20% {\n",
              "      border-color: transparent;\n",
              "      border-left-color: var(--fill-color);\n",
              "      border-top-color: var(--fill-color);\n",
              "    }\n",
              "    30% {\n",
              "      border-color: transparent;\n",
              "      border-left-color: var(--fill-color);\n",
              "      border-top-color: var(--fill-color);\n",
              "      border-right-color: var(--fill-color);\n",
              "    }\n",
              "    40% {\n",
              "      border-color: transparent;\n",
              "      border-right-color: var(--fill-color);\n",
              "      border-top-color: var(--fill-color);\n",
              "    }\n",
              "    60% {\n",
              "      border-color: transparent;\n",
              "      border-right-color: var(--fill-color);\n",
              "    }\n",
              "    80% {\n",
              "      border-color: transparent;\n",
              "      border-right-color: var(--fill-color);\n",
              "      border-bottom-color: var(--fill-color);\n",
              "    }\n",
              "    90% {\n",
              "      border-color: transparent;\n",
              "      border-bottom-color: var(--fill-color);\n",
              "    }\n",
              "  }\n",
              "</style>\n",
              "\n",
              "      <script>\n",
              "        async function quickchart(key) {\n",
              "          const quickchartButtonEl =\n",
              "            document.querySelector('#' + key + ' button');\n",
              "          quickchartButtonEl.disabled = true;  // To prevent multiple clicks.\n",
              "          quickchartButtonEl.classList.add('colab-df-spinner');\n",
              "          try {\n",
              "            const charts = await google.colab.kernel.invokeFunction(\n",
              "                'suggestCharts', [key], {});\n",
              "          } catch (error) {\n",
              "            console.error('Error during call to suggestCharts:', error);\n",
              "          }\n",
              "          quickchartButtonEl.classList.remove('colab-df-spinner');\n",
              "          quickchartButtonEl.classList.add('colab-df-quickchart-complete');\n",
              "        }\n",
              "        (() => {\n",
              "          let quickchartButtonEl =\n",
              "            document.querySelector('#df-a0476d8d-bd63-4815-9aa3-fd93897cdb9f button');\n",
              "          quickchartButtonEl.style.display =\n",
              "            google.colab.kernel.accessAllowed ? 'block' : 'none';\n",
              "        })();\n",
              "      </script>\n",
              "    </div>\n",
              "\n",
              "    </div>\n",
              "  </div>\n"
            ],
            "application/vnd.google.colaboratory.intrinsic+json": {
              "type": "dataframe",
              "summary": "{\n  \"name\": \"df\",\n  \"rows\": 8,\n  \"fields\": [\n    {\n      \"column\": \"Outlet Establishment Year\",\n      \"properties\": {\n        \"dtype\": \"number\",\n        \"std\": 2503.775906530676,\n        \"min\": 8.37176040809276,\n        \"max\": 8523.0,\n        \"num_unique_values\": 8,\n        \"samples\": [\n          2010.8318667135984,\n          2012.0,\n          8523.0\n        ],\n        \"semantic_type\": \"\",\n        \"description\": \"\"\n      }\n    },\n    {\n      \"column\": \"Item Visibility\",\n      \"properties\": {\n        \"dtype\": \"number\",\n        \"std\": 3013.304152859587,\n        \"min\": 0.0,\n        \"max\": 8523.0,\n        \"num_unique_values\": 8,\n        \"samples\": [\n          0.06613202877895108,\n          0.053930934,\n          8523.0\n        ],\n        \"semantic_type\": \"\",\n        \"description\": \"\"\n      }\n    },\n    {\n      \"column\": \"Item Weight\",\n      \"properties\": {\n        \"dtype\": \"number\",\n        \"std\": 2491.9706342896925,\n        \"min\": 4.555,\n        \"max\": 7060.0,\n        \"num_unique_values\": 8,\n        \"samples\": [\n          12.857645184135977,\n          12.6,\n          7060.0\n        ],\n        \"semantic_type\": \"\",\n        \"description\": \"\"\n      }\n    },\n    {\n      \"column\": \"Sales\",\n      \"properties\": {\n        \"dtype\": \"number\",\n        \"std\": 2967.578504408736,\n        \"min\": 31.29,\n        \"max\": 8523.0,\n        \"num_unique_values\": 8,\n        \"samples\": [\n          140.9927819781767,\n          143.0128,\n          8523.0\n        ],\n        \"semantic_type\": \"\",\n        \"description\": \"\"\n      }\n    },\n    {\n      \"column\": \"Rating\",\n      \"properties\": {\n        \"dtype\": \"number\",\n        \"std\": 3012.1858318852687,\n        \"min\": 0.6056512797408804,\n        \"max\": 8523.0,\n        \"num_unique_values\": 7,\n        \"samples\": [\n          8523.0,\n          3.965857092573038,\n          4.2\n        ],\n        \"semantic_type\": \"\",\n        \"description\": \"\"\n      }\n    }\n  ]\n}"
            }
          },
          "metadata": {},
          "execution_count": 10
        }
      ]
    },
    {
      "cell_type": "markdown",
      "source": [
        "**NULL VALUE CHECK**"
      ],
      "metadata": {
        "id": "00-xc1sSMfqU"
      }
    },
    {
      "cell_type": "code",
      "source": [
        "df.isnull().sum()"
      ],
      "metadata": {
        "id": "3pSpBEBFJQNr",
        "colab": {
          "base_uri": "https://localhost:8080/",
          "height": 460
        },
        "outputId": "8e909b44-f3d7-4d1d-b73b-ef10ea60d4cf"
      },
      "execution_count": 11,
      "outputs": [
        {
          "output_type": "execute_result",
          "data": {
            "text/plain": [
              "Item Fat Content                0\n",
              "Item Identifier                 0\n",
              "Item Type                       0\n",
              "Outlet Establishment Year       0\n",
              "Outlet Identifier               0\n",
              "Outlet Location Type            0\n",
              "Outlet Size                     0\n",
              "Outlet Type                     0\n",
              "Item Visibility                 0\n",
              "Item Weight                  1463\n",
              "Sales                           0\n",
              "Rating                          0\n",
              "dtype: int64"
            ],
            "text/html": [
              "<div>\n",
              "<style scoped>\n",
              "    .dataframe tbody tr th:only-of-type {\n",
              "        vertical-align: middle;\n",
              "    }\n",
              "\n",
              "    .dataframe tbody tr th {\n",
              "        vertical-align: top;\n",
              "    }\n",
              "\n",
              "    .dataframe thead th {\n",
              "        text-align: right;\n",
              "    }\n",
              "</style>\n",
              "<table border=\"1\" class=\"dataframe\">\n",
              "  <thead>\n",
              "    <tr style=\"text-align: right;\">\n",
              "      <th></th>\n",
              "      <th>0</th>\n",
              "    </tr>\n",
              "  </thead>\n",
              "  <tbody>\n",
              "    <tr>\n",
              "      <th>Item Fat Content</th>\n",
              "      <td>0</td>\n",
              "    </tr>\n",
              "    <tr>\n",
              "      <th>Item Identifier</th>\n",
              "      <td>0</td>\n",
              "    </tr>\n",
              "    <tr>\n",
              "      <th>Item Type</th>\n",
              "      <td>0</td>\n",
              "    </tr>\n",
              "    <tr>\n",
              "      <th>Outlet Establishment Year</th>\n",
              "      <td>0</td>\n",
              "    </tr>\n",
              "    <tr>\n",
              "      <th>Outlet Identifier</th>\n",
              "      <td>0</td>\n",
              "    </tr>\n",
              "    <tr>\n",
              "      <th>Outlet Location Type</th>\n",
              "      <td>0</td>\n",
              "    </tr>\n",
              "    <tr>\n",
              "      <th>Outlet Size</th>\n",
              "      <td>0</td>\n",
              "    </tr>\n",
              "    <tr>\n",
              "      <th>Outlet Type</th>\n",
              "      <td>0</td>\n",
              "    </tr>\n",
              "    <tr>\n",
              "      <th>Item Visibility</th>\n",
              "      <td>0</td>\n",
              "    </tr>\n",
              "    <tr>\n",
              "      <th>Item Weight</th>\n",
              "      <td>1463</td>\n",
              "    </tr>\n",
              "    <tr>\n",
              "      <th>Sales</th>\n",
              "      <td>0</td>\n",
              "    </tr>\n",
              "    <tr>\n",
              "      <th>Rating</th>\n",
              "      <td>0</td>\n",
              "    </tr>\n",
              "  </tbody>\n",
              "</table>\n",
              "</div><br><label><b>dtype:</b> int64</label>"
            ]
          },
          "metadata": {},
          "execution_count": 11
        }
      ]
    },
    {
      "cell_type": "markdown",
      "source": [
        "**UNIVARIATE ANALYSIS**"
      ],
      "metadata": {
        "id": "7ljnTenCMj8l"
      }
    },
    {
      "cell_type": "code",
      "source": [
        "df.columns"
      ],
      "metadata": {
        "id": "TR0eMpUwJQK8",
        "colab": {
          "base_uri": "https://localhost:8080/"
        },
        "outputId": "224792a6-3677-48dd-f6f5-1f29bf142bd8"
      },
      "execution_count": 12,
      "outputs": [
        {
          "output_type": "execute_result",
          "data": {
            "text/plain": [
              "Index(['Item Fat Content', 'Item Identifier', 'Item Type',\n",
              "       'Outlet Establishment Year', 'Outlet Identifier',\n",
              "       'Outlet Location Type', 'Outlet Size', 'Outlet Type', 'Item Visibility',\n",
              "       'Item Weight', 'Sales', 'Rating'],\n",
              "      dtype='object')"
            ]
          },
          "metadata": {},
          "execution_count": 12
        }
      ]
    },
    {
      "cell_type": "markdown",
      "source": [
        "**SALES INFORMATION**"
      ],
      "metadata": {
        "id": "nA2lDRb8ONML"
      }
    },
    {
      "cell_type": "code",
      "source": [
        "\n",
        "# Total Sales\n",
        "total_sales = df['Sales'].sum()\n",
        "\n",
        "# Average Sales\n",
        "avg_sales = df['Sales'].mean()\n",
        "\n",
        "# No of Items Sold\n",
        "no_of_items_sold = df['Sales'].count()\n",
        "\n",
        "# Average Ratings\n",
        "avg_ratings = df['Rating'].mean()\n",
        "\n",
        "# Display\n",
        "print(f\"Total Sales: ${total_sales:,.0f}\")\n",
        "print(f\"Average Sales: ${avg_sales:,.0f}\")\n",
        "print(f\"No of Items Sold: {no_of_items_sold:,.0f}\")\n",
        "print(f\"Average Ratings: {avg_ratings:,.0f}\")"
      ],
      "metadata": {
        "colab": {
          "base_uri": "https://localhost:8080/"
        },
        "id": "R6_Re3qZOLbv",
        "outputId": "97892fed-3066-4009-fb1b-cd3f03fd14bc"
      },
      "execution_count": 13,
      "outputs": [
        {
          "output_type": "stream",
          "name": "stdout",
          "text": [
            "Total Sales: $1,201,681\n",
            "Average Sales: $141\n",
            "No of Items Sold: 8,523\n",
            "Average Ratings: 4\n"
          ]
        }
      ]
    },
    {
      "cell_type": "markdown",
      "source": [
        "**ITEM TYPE WISE SALES**"
      ],
      "metadata": {
        "id": "roXcAezHOlYb"
      }
    },
    {
      "cell_type": "code",
      "source": [
        "import matplotlib\n",
        "import importlib\n",
        "import matplotlib.pyplot as plt\n",
        "\n",
        "# reload the pyplot module to restore original functions\n",
        "importlib.reload(matplotlib.pyplot)\n",
        "\n",
        "# verify restored\n",
        "print(\"plt.figure restored:\", callable(plt.figure))\n"
      ],
      "metadata": {
        "colab": {
          "base_uri": "https://localhost:8080/"
        },
        "id": "fYHr40BqREe7",
        "outputId": "f17a375e-c5c6-4820-c480-c9da55195573"
      },
      "execution_count": 14,
      "outputs": [
        {
          "output_type": "stream",
          "name": "stdout",
          "text": [
            "plt.figure restored: True\n"
          ]
        }
      ]
    },
    {
      "cell_type": "code",
      "source": [
        "dftop10=df.sort_values(by='Sales', ascending=False)"
      ],
      "metadata": {
        "id": "iwTGB1nZTr48"
      },
      "execution_count": 16,
      "outputs": []
    },
    {
      "cell_type": "code",
      "source": [
        "sns.barplot(x='Item Type',y='Sales',data=dftop10)\n",
        "plt.xticks(rotation=25)\n",
        "plt.yticks(rotation=45)\n",
        "plt.title('top 10 item type sales')"
      ],
      "metadata": {
        "colab": {
          "base_uri": "https://localhost:8080/",
          "height": 551
        },
        "id": "bgDDbJDJOkw_",
        "outputId": "b7adb3a0-2c18-4030-943b-beeee1862399"
      },
      "execution_count": 17,
      "outputs": [
        {
          "output_type": "execute_result",
          "data": {
            "text/plain": [
              "Text(0.5, 1.0, 'top 10 item type sales')"
            ]
          },
          "metadata": {},
          "execution_count": 17
        },
        {
          "output_type": "display_data",
          "data": {
            "text/plain": [
              "<Figure size 640x480 with 1 Axes>"
            ],
            "image/png": "[encoded data removed]"
          },
          "metadata": {}
        }
      ]
    },
    {
      "cell_type": "code",
      "source": [
        "sns.boxplot(x='Item Fat Content',y='Item Type',data=df,color='green')\n",
        "plt.xticks(rotation=45)\n",
        "plt.yticks(rotation=45)\n",
        "plt.title('item type fat content')"
      ],
      "metadata": {
        "id": "6LZ6X9X_JQI2",
        "colab": {
          "base_uri": "https://localhost:8080/",
          "height": 522
        },
        "outputId": "70ef62dc-a932-4cee-eaa6-52b8308fc264"
      },
      "execution_count": 21,
      "outputs": [
        {
          "output_type": "execute_result",
          "data": {
            "text/plain": [
              "Text(0.5, 1.0, 'item type fat content')"
            ]
          },
          "metadata": {},
          "execution_count": 21
        },
        {
          "output_type": "display_data",
          "data": {
            "text/plain": [
              "<Figure size 640x480 with 1 Axes>"
            ],
            "image/png": "[encoded data removed]"
          },
          "metadata": {}
        }
      ]
    },
    {
      "cell_type": "code",
      "source": [
        "df.columns"
      ],
      "metadata": {
        "colab": {
          "base_uri": "https://localhost:8080/"
        },
        "id": "xvYjp16eSoM0",
        "outputId": "29277956-2557-4a41-d59b-14f7f2ba019e"
      },
      "execution_count": null,
      "outputs": [
        {
          "output_type": "execute_result",
          "data": {
            "text/plain": [
              "Index(['Item Fat Content', 'Item Identifier', 'Item Type',\n",
              "       'Outlet Establishment Year', 'Outlet Identifier',\n",
              "       'Outlet Location Type', 'Outlet Size', 'Outlet Type', 'Item Visibility',\n",
              "       'Item Weight', 'Sales', 'Rating'],\n",
              "      dtype='object')"
            ]
          },
          "metadata": {},
          "execution_count": 20
        }
      ]
    },
    {
      "cell_type": "code",
      "source": [
        "sns.barplot(x='Item Weight',y='Sales',data=df.head(10))\n",
        "plt.xticks(rotation=45)\n",
        "plt.yticks(rotation=45)\n",
        "plt.title('weighted item type sales')\n"
      ],
      "metadata": {
        "id": "ndddz63eJQGu",
        "colab": {
          "base_uri": "https://localhost:8080/",
          "height": 513
        },
        "outputId": "8a0d367f-5d18-4cd8-bec1-4b67463e3d83"
      },
      "execution_count": 22,
      "outputs": [
        {
          "output_type": "execute_result",
          "data": {
            "text/plain": [
              "Text(0.5, 1.0, 'weighted item type sales')"
            ]
          },
          "metadata": {},
          "execution_count": 22
        },
        {
          "output_type": "display_data",
          "data": {
            "text/plain": [
              "<Figure size 640x480 with 1 Axes>"
            ],
            "image/png": "[encoded data removed]"
          },
          "metadata": {}
        }
      ]
    },
    {
      "cell_type": "code",
      "source": [
        "df.columns"
      ],
      "metadata": {
        "id": "-BmuMDMkJQDr",
        "colab": {
          "base_uri": "https://localhost:8080/"
        },
        "outputId": "d01f70f4-f183-4b01-d2a6-4934d35199ff"
      },
      "execution_count": null,
      "outputs": [
        {
          "output_type": "execute_result",
          "data": {
            "text/plain": [
              "Index(['Item Fat Content', 'Item Identifier', 'Item Type',\n",
              "       'Outlet Establishment Year', 'Outlet Identifier',\n",
              "       'Outlet Location Type', 'Outlet Size', 'Outlet Type', 'Item Visibility',\n",
              "       'Item Weight', 'Sales', 'Rating'],\n",
              "      dtype='object')"
            ]
          },
          "metadata": {},
          "execution_count": 22
        }
      ]
    },
    {
      "cell_type": "code",
      "source": [
        "#outlet establishmnent year wise sales\n",
        "sns.barplot(x='Outlet Establishment Year',y='Sales',data=df)"
      ],
      "metadata": {
        "id": "06Q5o9pyJQBE",
        "colab": {
          "base_uri": "https://localhost:8080/",
          "height": 466
        },
        "outputId": "5d1af0b2-bd9f-4536-9b7b-6222400537ae"
      },
      "execution_count": null,
      "outputs": [
        {
          "output_type": "execute_result",
          "data": {
            "text/plain": [
              "<Axes: xlabel='Outlet Establishment Year', ylabel='Sales'>"
            ]
          },
          "metadata": {},
          "execution_count": 23
        },
        {
          "output_type": "display_data",
          "data": {
            "text/plain": [
              "<Figure size 640x480 with 1 Axes>"
            ],
            "image/png": "[encoded data removed]"
          },
          "metadata": {}
        }
      ]
    },
    {
      "cell_type": "code",
      "source": [
        "df.columns"
      ],
      "metadata": {
        "id": "5dJ-v7xwJP-t",
        "colab": {
          "base_uri": "https://localhost:8080/"
        },
        "outputId": "fd653c68-ff45-4fb5-c621-3f9d52cfd660"
      },
      "execution_count": null,
      "outputs": [
        {
          "output_type": "execute_result",
          "data": {
            "text/plain": [
              "Index(['Item Fat Content', 'Item Identifier', 'Item Type',\n",
              "       'Outlet Establishment Year', 'Outlet Identifier',\n",
              "       'Outlet Location Type', 'Outlet Size', 'Outlet Type', 'Item Visibility',\n",
              "       'Item Weight', 'Sales', 'Rating'],\n",
              "      dtype='object')"
            ]
          },
          "metadata": {},
          "execution_count": 24
        }
      ]
    },
    {
      "cell_type": "code",
      "source": [
        "# Total Sales by Fat Content\n",
        "sales_by_fat = df.groupby('Item Fat Content')['Sales'].sum()\n",
        "\n",
        "plt.pie(sales_by_fat,\n",
        "        labels=sales_by_fat.index,\n",
        "        autopct='%.1f%%',\n",
        "        startangle=90)\n",
        "\n",
        "plt.title('Sales by Fat Content')\n",
        "plt.axis('equal')  # Equal aspect ratio ensures that pie is drawn as a circle.\n",
        "plt.show()"
      ],
      "metadata": {
        "id": "4UBv8ilhJP5_"
      },
      "execution_count": null,
      "outputs": []
    },
    {
      "cell_type": "markdown",
      "source": [
        "TOTAL SALES BY ITEM TYPE"
      ],
      "metadata": {
        "id": "u3aYcMk6sYTg"
      }
    },
    {
      "cell_type": "code",
      "source": [
        "sales_by_type = df.groupby('Item Type') ['Sales'].sum().sort_values(ascending=False)\n",
        "plt.figure(figsize=(10, 6))\n",
        "bars = plt.bar(sales_by_type.index, sales_by_type.values)\n",
        "plt.xticks(rotation=-90)\n",
        "plt.xlabel('Item Type')\n",
        "plt.ylabel('Total Sales')\n",
        "plt.title('Total Sales by Item Type')\n",
        "for bar in bars:\n",
        "    plt.text(bar.get_x() + bar.get_width() / 2, bar.get_height(),\n",
        "         f'(bar.get_height():,. 0f)', ha='center', va='bottom', fontsize=8)\n",
        "plt.tight_layout()\n",
        "plt.show()\n"
      ],
      "metadata": {
        "id": "nCA2vvV7JP3e",
        "colab": {
          "base_uri": "https://localhost:8080/",
          "height": 607
        },
        "outputId": "f35d1a53-0884-4435-d0b9-c03df9ae2dac"
      },
      "execution_count": 24,
      "outputs": [
        {
          "output_type": "display_data",
          "data": {
            "text/plain": [
              "<Figure size 1000x600 with 1 Axes>"
            ],
            "image/png": "[encoded data removed]"
          },
          "metadata": {}
        }
      ]
    },
    {
      "cell_type": "markdown",
      "source": [
        "OUTLET TIER BY ITEM FAT CONTENT"
      ],
      "metadata": {
        "id": "u1nVRkInscMY"
      }
    },
    {
      "cell_type": "code",
      "source": [
        "grouped = df.groupby(['Outlet Location Type', 'Item Fat Content'])['Sales'].sum().unstack()\n",
        "grouped = grouped[['Regular', 'Low Fat']]  # Optional filtering order\n",
        "\n",
        "ax = grouped.plot(kind='bar', figsize=(8, 5), title='Outlet Tier by Item Fat Content')\n",
        "plt.xlabel('Outlet Location Tier')\n",
        "plt.ylabel('Total Sales')\n",
        "plt.legend(title='Item Fat Content')\n",
        "plt.tight_layout()\n",
        "plt.show()"
      ],
      "metadata": {
        "id": "Bg1txQ-1JP0j",
        "colab": {
          "base_uri": "https://localhost:8080/",
          "height": 507
        },
        "outputId": "345e3a1d-dcc0-4541-e282-9bed4929c346"
      },
      "execution_count": 23,
      "outputs": [
        {
          "output_type": "display_data",
          "data": {
            "text/plain": [
              "<Figure size 800x500 with 1 Axes>"
            ],
            "image/png": "[encoded data removed]"
          },
          "metadata": {}
        }
      ]
    },
    {
      "cell_type": "markdown",
      "source": [
        "Total Sales By Outlet Establishment Year"
      ],
      "metadata": {
        "id": "TEVnTBDCq9k4"
      }
    },
    {
      "cell_type": "code",
      "source": [
        "sales_by_year = df.groupby('Outlet Establishment Year')['Sales'].sum().sort_index()\n",
        "\n",
        "plt.figure(figsize=(9, 5))\n",
        "plt.plot(sales_by_year.index, sales_by_year.values, marker='o', linestyle='-')\n",
        "\n",
        "plt.xlabel('Outlet Establishment Year')\n",
        "plt.ylabel('Total Sales')\n",
        "plt.title('Outlet Establishment')\n",
        "\n",
        "for x, y in zip(sales_by_year.index, sales_by_year.values):\n",
        "    plt.text(x, y, f'{y:,.0f}', ha='center', va='bottom', fontsize=8)\n",
        "\n",
        "plt.tight_layout()\n",
        "plt.show()"
      ],
      "metadata": {
        "id": "IsG-ExFVJPyC",
        "colab": {
          "base_uri": "https://localhost:8080/",
          "height": 507
        },
        "outputId": "6051f144-fd2c-40c8-d868-c3d4f9b2d584"
      },
      "execution_count": 25,
      "outputs": [
        {
          "output_type": "display_data",
          "data": {
            "text/plain": [
              "<Figure size 900x500 with 1 Axes>"
            ],
            "image/png": "[encoded data removed]"
          },
          "metadata": {}
        }
      ]
    },
    {
      "cell_type": "markdown",
      "source": [
        "SALES BY OUTLET SIZE"
      ],
      "metadata": {
        "id": "f5rtXqOPrCE_"
      }
    },
    {
      "cell_type": "code",
      "source": [
        "sales_by_size = df.groupby('Outlet Size')['Sales'].sum()\n",
        "\n",
        "plt.figure(figsize=(4, 4))\n",
        "plt.pie(sales_by_size,\n",
        "        labels=sales_by_size.index,\n",
        "        autopct='%1.1f%%',\n",
        "        startangle=90)\n",
        "\n",
        "plt.title('Outlet Size')\n",
        "plt.tight_layout()\n",
        "plt.show()"
      ],
      "metadata": {
        "id": "3IPbzA_EJPu8",
        "colab": {
          "base_uri": "https://localhost:8080/",
          "height": 407
        },
        "outputId": "490eac78-0fac-400f-e0a7-dcfcc1e66d11"
      },
      "execution_count": 26,
      "outputs": [
        {
          "output_type": "display_data",
          "data": {
            "text/plain": [
              "<Figure size 400x400 with 1 Axes>"
            ],
            "image/png": "[encoded data removed]"
          },
          "metadata": {}
        }
      ]
    },
    {
      "cell_type": "markdown",
      "source": [
        "SALERS BY LOCATION"
      ],
      "metadata": {
        "id": "WFdLexvcrICI"
      }
    },
    {
      "cell_type": "code",
      "source": [
        "sales_by_location = df.groupby('Outlet Location Type')['Sales'].sum().reset_index()\n",
        "sales_by_location = sales_by_location.sort_values('Sales', ascending=False)\n",
        "\n",
        "plt.figure(figsize=(8, 3))  # Smaller height, enough width\n",
        "ax = sns.barplot(x='Sales', y='Outlet Location Type', data=sales_by_location)\n",
        "\n",
        "plt.title('Total Sales by Outlet Location Type')\n",
        "plt.xlabel('Total Sales')\n",
        "plt.ylabel('Outlet Location Type')\n",
        "plt.tight_layout()  # Ensures layout fits without scroll\n",
        "plt.show()"
      ],
      "metadata": {
        "id": "ZA5s-laCJPsN",
        "colab": {
          "base_uri": "https://localhost:8080/",
          "height": 307
        },
        "outputId": "2051f7a0-a7a2-4527-ff4d-a70648fa4ef1"
      },
      "execution_count": 27,
      "outputs": [
        {
          "output_type": "display_data",
          "data": {
            "text/plain": [
              "<Figure size 800x300 with 1 Axes>"
            ],
            "image/png": "[encoded data removed]"
          },
          "metadata": {}
        }
      ]
    },
    {
      "cell_type": "code",
      "source": [],
      "metadata": {
        "id": "ngsWIidhJPpc"
      },
      "execution_count": null,
      "outputs": []
    },
    {
      "cell_type": "code",
      "source": [],
      "metadata": {
        "id": "jlVLHC3iJPmj"
      },
      "execution_count": null,
      "outputs": []
    },
    {
      "cell_type": "code",
      "source": [],
      "metadata": {
        "id": "tQe1C3U0JPj6"
      },
      "execution_count": null,
      "outputs": []
    },
    {
      "cell_type": "code",
      "source": [],
      "metadata": {
        "id": "LLSzuPWBJPhT"
      },
      "execution_count": null,
      "outputs": []
    },
    {
      "cell_type": "code",
      "source": [],
      "metadata": {
        "id": "nJn1_t4-JPd5"
      },
      "execution_count": null,
      "outputs": []
    },
    {
      "cell_type": "code",
      "source": [],
      "metadata": {
        "id": "I1f3Vp8gJPbD"
      },
      "execution_count": null,
      "outputs": []
    },
    {
      "cell_type": "code",
      "source": [],
      "metadata": {
        "id": "3ppj5uk5JPYI"
      },
      "execution_count": null,
      "outputs": []
    },
    {
      "cell_type": "code",
      "source": [],
      "metadata": {
        "id": "QpMEQRYFJPVV"
      },
      "execution_count": null,
      "outputs": []
    },
    {
      "cell_type": "code",
      "source": [],
      "metadata": {
        "id": "DaGrs3CuJPS7"
      },
      "execution_count": null,
      "outputs": []
    },
    {
      "cell_type": "code",
      "source": [],
      "metadata": {
        "id": "dXNrxnyNJPP5"
      },
      "execution_count": null,
      "outputs": []
    },
    {
      "cell_type": "code",
      "source": [],
      "metadata": {
        "id": "TY8lK97fJPM0"
      },
      "execution_count": null,
      "outputs": []
    },
    {
      "cell_type": "code",
      "source": [],
      "metadata": {
        "id": "dD6tR-FEJPKP"
      },
      "execution_count": null,
      "outputs": []
    },
    {
      "cell_type": "code",
      "source": [],
      "metadata": {
        "id": "JJfazyS7JPHl"
      },
      "execution_count": null,
      "outputs": []
    },
    {
      "cell_type": "code",
      "source": [],
      "metadata": {
        "id": "ojfflhlmJPFb"
      },
      "execution_count": null,
      "outputs": []
    },
    {
      "cell_type": "code",
      "source": [],
      "metadata": {
        "id": "k8XAKfuvJPCq"
      },
      "execution_count": null,
      "outputs": []
    },
    {
      "cell_type": "code",
      "source": [],
      "metadata": {
        "id": "se6fWKLsJO_z"
      },
      "execution_count": null,
      "outputs": []
    },
    {
      "cell_type": "code",
      "source": [],
      "metadata": {
        "id": "1Lz4x96zJO87"
      },
      "execution_count": null,
      "outputs": []
    },
    {
      "cell_type": "code",
      "source": [],
      "metadata": {
        "id": "daY9qKW_JO6Z"
      },
      "execution_count": null,
      "outputs": []
    },
    {
      "cell_type": "code",
      "source": [],
      "metadata": {
        "id": "hW6cLrYoJO3r"
      },
      "execution_count": null,
      "outputs": []
    },
    {
      "cell_type": "code",
      "source": [],
      "metadata": {
        "id": "-eG0Ez93JO1D"
      },
      "execution_count": null,
      "outputs": []
    },
    {
      "cell_type": "code",
      "source": [],
      "metadata": {
        "id": "9KiGChkcJOyc"
      },
      "execution_count": null,
      "outputs": []
    },
    {
      "cell_type": "code",
      "source": [],
      "metadata": {
        "id": "R82fA8SwJOv0"
      },
      "execution_count": null,
      "outputs": []
    },
    {
      "cell_type": "code",
      "source": [],
      "metadata": {
        "id": "jSfiZBCxJOs0"
      },
      "execution_count": null,
      "outputs": []
    },
    {
      "cell_type": "code",
      "source": [],
      "metadata": {
        "id": "SQ7iyuB1JOnt"
      },
      "execution_count": null,
      "outputs": []
    },
    {
      "cell_type": "code",
      "source": [],
      "metadata": {
        "id": "JEEZBRLYJOlM"
      },
      "execution_count": null,
      "outputs": []
    },
    {
      "cell_type": "code",
      "source": [],
      "metadata": {
        "id": "7epbGDKjJOiy"
      },
      "execution_count": null,
      "outputs": []
    },
    {
      "cell_type": "code",
      "source": [],
      "metadata": {
        "id": "0obRS-XKJOgf"
      },
      "execution_count": null,
      "outputs": []
    },
    {
      "cell_type": "code",
      "source": [],
      "metadata": {
        "id": "4Ts5_mKCJOd-"
      },
      "execution_count": null,
      "outputs": []
    },
    {
      "cell_type": "code",
      "source": [],
      "metadata": {
        "id": "fAAIs-yDJObk"
      },
      "execution_count": null,
      "outputs": []
    },
    {
      "cell_type": "code",
      "source": [],
      "metadata": {
        "id": "-v-pQtiOJOY8"
      },
      "execution_count": null,
      "outputs": []
    },
    {
      "cell_type": "code",
      "source": [],
      "metadata": {
        "id": "a5bbQvyPJOUe"
      },
      "execution_count": null,
      "outputs": []
    },
    {
      "cell_type": "code",
      "source": [],
      "metadata": {
        "id": "qnIRZrBaJOSE"
      },
      "execution_count": null,
      "outputs": []
    },
    {
      "cell_type": "code",
      "source": [],
      "metadata": {
        "id": "LdEAuiX4JON3"
      },
      "execution_count": null,
      "outputs": []
    },
    {
      "cell_type": "code",
      "source": [],
      "metadata": {
        "id": "_dnV8FaEJOLu"
      },
      "execution_count": null,
      "outputs": []
    },
    {
      "cell_type": "code",
      "source": [],
      "metadata": {
        "id": "rd6l2X7BJOJj"
      },
      "execution_count": null,
      "outputs": []
    },
    {
      "cell_type": "code",
      "source": [],
      "metadata": {
        "id": "NLXJBjoGJOG1"
      },
      "execution_count": null,
      "outputs": []
    }
  ]
}